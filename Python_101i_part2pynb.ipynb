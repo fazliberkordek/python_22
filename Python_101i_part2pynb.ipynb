{
  "nbformat": 4,
  "nbformat_minor": 0,
  "metadata": {
    "colab": {
      "name": "Python_101i_part2pynb",
      "provenance": [],
      "collapsed_sections": [],
      "authorship_tag": "ABX9TyNEsyXVwJB1lh8ChSgtME0e",
      "include_colab_link": true
    },
    "kernelspec": {
      "name": "python3",
      "display_name": "Python 3"
    },
    "language_info": {
      "name": "python"
    }
  },
  "cells": [
    {
      "cell_type": "markdown",
      "metadata": {
        "id": "view-in-github",
        "colab_type": "text"
      },
      "source": [
        "<a href=\"https://colab.research.google.com/github/fazliberkordek/python_22/blob/main/Python_101i_part2pynb.ipynb\" target=\"_parent\"><img src=\"https://colab.research.google.com/assets/colab-badge.svg\" alt=\"Open In Colab\"/></a>"
      ]
    },
    {
      "cell_type": "code",
      "execution_count": 1,
      "metadata": {
        "id": "ygg50jwlH2FF",
        "colab": {
          "base_uri": "https://localhost:8080/"
        },
        "outputId": "032b1847-f3f3-480a-b410-f8d61c26959a"
      },
      "outputs": [
        {
          "output_type": "stream",
          "name": "stdout",
          "text": [
            "Number:1\n",
            "11\n"
          ]
        }
      ],
      "source": [
        "number = int(input(\"Number:\"))\n",
        "print(number + 10)"
      ]
    },
    {
      "cell_type": "code",
      "source": [
        "#importing modules\n",
        "import math"
      ],
      "metadata": {
        "id": "CJMwAtqCstM-"
      },
      "execution_count": 2,
      "outputs": []
    },
    {
      "cell_type": "code",
      "source": [
        "floor_number = (math.floor(3.45))\n",
        "print(floor_number,type(floor_number))"
      ],
      "metadata": {
        "colab": {
          "base_uri": "https://localhost:8080/"
        },
        "id": "ZZRA6XqH13i5",
        "outputId": "e8b87124-629a-44fd-c58c-645ce93375c3"
      },
      "execution_count": 3,
      "outputs": [
        {
          "output_type": "stream",
          "name": "stdout",
          "text": [
            "3 <class 'int'>\n"
          ]
        }
      ]
    },
    {
      "cell_type": "code",
      "source": [
        "import datetime\n",
        "print(datetime.datetime.now())"
      ],
      "metadata": {
        "id": "vilVjBTN2MhJ",
        "colab": {
          "base_uri": "https://localhost:8080/"
        },
        "outputId": "577b3dee-c76f-4dc2-9d9e-f13aff254fe5"
      },
      "execution_count": 4,
      "outputs": [
        {
          "output_type": "stream",
          "name": "stdout",
          "text": [
            "2022-07-02 14:25:08.232139\n"
          ]
        }
      ]
    },
    {
      "cell_type": "code",
      "source": [
        "#random module\n",
        "import random\n",
        "print(random.randint(1,6)) # For example we are  playing with dice"
      ],
      "metadata": {
        "id": "3rwwln9Z366V",
        "colab": {
          "base_uri": "https://localhost:8080/"
        },
        "outputId": "11821ac9-f5ce-4760-e837-5aa5aaf45b1f"
      },
      "execution_count": 5,
      "outputs": [
        {
          "output_type": "stream",
          "name": "stdout",
          "text": [
            "6\n"
          ]
        }
      ]
    },
    {
      "cell_type": "code",
      "source": [
        "#Operators:\n",
        "#Arithmetic operator:\n",
        "\n",
        "print(\"2+5 = \",2+5)\n",
        "print(\"5-2 = \",5-2)\n",
        "print(\"5*2 = \",5*2)\n",
        "print(\"5/2 = \",5/2)\n",
        "print(\"5**2 = \",5**2)\n",
        "print(\"5//2 =\",5//2)\n",
        "print(\"5%2 = \",5%2)"
      ],
      "metadata": {
        "colab": {
          "base_uri": "https://localhost:8080/"
        },
        "id": "xDPTmlXjunYe",
        "outputId": "8eaede13-e3be-4e6c-9ad5-aaaeda765742"
      },
      "execution_count": 6,
      "outputs": [
        {
          "output_type": "stream",
          "name": "stdout",
          "text": [
            "2+5 =  7\n",
            "5-2 =  3\n",
            "5*2 =  10\n",
            "5/2 =  2.5\n",
            "5**2 =  25\n",
            "5//2 = 2\n",
            "5%2 =  1\n"
          ]
        }
      ]
    },
    {
      "cell_type": "code",
      "source": [
        "x = 5 # equivalent to x = 5\n",
        "x+=5 # x = x+5  \n",
        "x-=5\n",
        "x*=5\n",
        "x/=5\n"
      ],
      "metadata": {
        "id": "JFdhEPAFvIBf"
      },
      "execution_count": 7,
      "outputs": []
    },
    {
      "cell_type": "code",
      "source": [
        "#Comparison operitors:\n",
        "num1 = 10\n",
        "num2 = 5\n",
        "\n",
        "print(num1, \">\",  num2, \"=\", num1>num2)\n",
        "print(num1,\">=\", num2, \"=\", num1>=num2)\n",
        "print(num1,\"<\",num2, \"=\", num1<num2)\n",
        "print(num1,\"<=\",num2,\"=\", num1<=num2)\n",
        "print(num1,\"==\",num2,\"=\",num1==num2)\n",
        "print(num1,\"!=\",num2,\"=\",num1!=num2)\n",
        "\n"
      ],
      "metadata": {
        "colab": {
          "base_uri": "https://localhost:8080/"
        },
        "id": "9Cz_ZDuUxVBf",
        "outputId": "37ec1c40-04dc-4473-a1c1-6af25cd3a7e3"
      },
      "execution_count": 8,
      "outputs": [
        {
          "output_type": "stream",
          "name": "stdout",
          "text": [
            "10 > 5 = True\n",
            "10 >= 5 = True\n",
            "10 < 5 = False\n",
            "10 <= 5 = False\n",
            "10 == 5 = False\n",
            "10 != 5 = True\n"
          ]
        }
      ]
    },
    {
      "cell_type": "markdown",
      "source": [
        "## Logic Operators AND"
      ],
      "metadata": {
        "id": "1f6rbAlY0qRA"
      }
    },
    {
      "cell_type": "code",
      "source": [
        "print(\"True and True = \", True and True)\n",
        "print(\"True and False =\",True and False)\n",
        "print(\"False and True = \", False and True)\n",
        "print(\"False and Fakse =\",False and False)\n",
        "print(\"True and False and True = \", True and False and True)\n"
      ],
      "metadata": {
        "colab": {
          "base_uri": "https://localhost:8080/"
        },
        "id": "UCRO8cDsyPXM",
        "outputId": "2c71085f-796b-491a-9562-90709b40458c"
      },
      "execution_count": 9,
      "outputs": [
        {
          "output_type": "stream",
          "name": "stdout",
          "text": [
            "True and True =  True\n",
            "True and False = False\n",
            "False and True =  False\n",
            "False and Fakse = False\n",
            "True and False and True =  False\n"
          ]
        }
      ]
    },
    {
      "cell_type": "markdown",
      "source": [
        "# Logic operators: OR"
      ],
      "metadata": {
        "id": "dTy4oWji00gC"
      }
    },
    {
      "cell_type": "code",
      "source": [
        "print(\"True or True = \",True or True)\n",
        "print(\"True or False = \",True or False)\n",
        "print(\"False or True = \",False or True)\n",
        "print(\"False or False =\",False or False)\n",
        "print(\"False or True or False = \",False or True or False)"
      ],
      "metadata": {
        "colab": {
          "base_uri": "https://localhost:8080/"
        },
        "id": "p4ywwGxSzyMQ",
        "outputId": "04fe4227-7d08-4332-884d-fb47feca7ef1"
      },
      "execution_count": 10,
      "outputs": [
        {
          "output_type": "stream",
          "name": "stdout",
          "text": [
            "True or True =  True\n",
            "True or False =  True\n",
            "False or True =  True\n",
            "False or False = False\n",
            "False or True or False =  True\n"
          ]
        }
      ]
    },
    {
      "cell_type": "markdown",
      "source": [
        "# Logic Operator : NOT"
      ],
      "metadata": {
        "id": "KtJtFYhi1589"
      }
    },
    {
      "cell_type": "code",
      "source": [
        "print(\"Not True = \",not True)\n",
        "print(\"Not False =\", not False)"
      ],
      "metadata": {
        "colab": {
          "base_uri": "https://localhost:8080/"
        },
        "id": "aDaVMcgx1Wxc",
        "outputId": "34a10c9a-4ba8-45a0-d3b0-3a0d46c2bb4c"
      },
      "execution_count": 11,
      "outputs": [
        {
          "output_type": "stream",
          "name": "stdout",
          "text": [
            "Not True =  False\n",
            "Not False = True\n"
          ]
        }
      ]
    },
    {
      "cell_type": "markdown",
      "source": [
        "# If-Else Statement"
      ],
      "metadata": {
        "id": "rLLhN3FUrXDz"
      }
    },
    {
      "cell_type": "code",
      "source": [
        "celsius = 25\n",
        "if celsius >20:\n",
        "  print(\"The tempreture is\", celsius,\" which is above 20 Celsius\")"
      ],
      "metadata": {
        "colab": {
          "base_uri": "https://localhost:8080/"
        },
        "id": "76ebQqN5rdS8",
        "outputId": "a204551c-4930-4ab8-d0cc-662e99ee444a"
      },
      "execution_count": 12,
      "outputs": [
        {
          "output_type": "stream",
          "name": "stdout",
          "text": [
            "The tempreture is 25  which is above 20 Celsius\n"
          ]
        }
      ]
    },
    {
      "cell_type": "code",
      "source": [
        "celsius = 18\n",
        "if celsius >20:\n",
        "  print(\"good\")\n",
        "else:\n",
        "  print(\"cold\")"
      ],
      "metadata": {
        "colab": {
          "base_uri": "https://localhost:8080/"
        },
        "id": "viYq1Vo6XnLM",
        "outputId": "550ca1de-34b5-4497-a494-bb77c1da1976"
      },
      "execution_count": 13,
      "outputs": [
        {
          "output_type": "stream",
          "name": "stdout",
          "text": [
            "cold\n"
          ]
        }
      ]
    },
    {
      "cell_type": "code",
      "source": [
        "celsius = 32\n",
        "if celsius >30:\n",
        "  print(\"Hot \")\n",
        "elif 30>= celsius >20:\n",
        "  print(\"Good\")\n",
        "elif -273 < celsius <=20:\n",
        "  print(\"Cold\")\n",
        "else:\n",
        "  print(\"Something went wrong\")"
      ],
      "metadata": {
        "colab": {
          "base_uri": "https://localhost:8080/"
        },
        "id": "Uh3rzvwKYBOX",
        "outputId": "17d05a05-9b53-4f7e-a022-f8547f5e34d1"
      },
      "execution_count": 14,
      "outputs": [
        {
          "output_type": "stream",
          "name": "stdout",
          "text": [
            "Hot \n"
          ]
        }
      ]
    },
    {
      "cell_type": "code",
      "source": [
        "drivers_license = True\n",
        "age = 17\n",
        "if age >17:\n",
        "  if drivers_license:\n",
        "    print(\"You can drive car\")\n",
        "  else:\n",
        "    print(\"You need to go to a drivers licence course and get it \")\n",
        "else:\n",
        "  print(\"You need to get older\")\n"
      ],
      "metadata": {
        "colab": {
          "base_uri": "https://localhost:8080/"
        },
        "id": "D1bKpa2ZYr-W",
        "outputId": "ba525430-d736-4df4-c004-851a7073476b"
      },
      "execution_count": 15,
      "outputs": [
        {
          "output_type": "stream",
          "name": "stdout",
          "text": [
            "You need to get older\n"
          ]
        }
      ]
    },
    {
      "cell_type": "markdown",
      "source": [
        "## For Loops"
      ],
      "metadata": {
        "id": "OHNkaJ3ka1i9"
      }
    },
    {
      "cell_type": "code",
      "source": [
        "volcano_name = \"Eyjafjallajökull\"\n",
        "for i in volcano_name:\n",
        "  print(\"i: {}\\n\".format(i))\n",
        "print(\"Loop is completed\")"
      ],
      "metadata": {
        "colab": {
          "base_uri": "https://localhost:8080/"
        },
        "id": "yFSwhBpgaTJp",
        "outputId": "149ff5f2-3af5-4fec-eae5-60f6a78eff0f"
      },
      "execution_count": 16,
      "outputs": [
        {
          "output_type": "stream",
          "name": "stdout",
          "text": [
            "i: E\n",
            "\n",
            "i: y\n",
            "\n",
            "i: j\n",
            "\n",
            "i: a\n",
            "\n",
            "i: f\n",
            "\n",
            "i: j\n",
            "\n",
            "i: a\n",
            "\n",
            "i: l\n",
            "\n",
            "i: l\n",
            "\n",
            "i: a\n",
            "\n",
            "i: j\n",
            "\n",
            "i: ö\n",
            "\n",
            "i: k\n",
            "\n",
            "i: u\n",
            "\n",
            "i: l\n",
            "\n",
            "i: l\n",
            "\n",
            "Loop is completed\n"
          ]
        }
      ]
    },
    {
      "cell_type": "code",
      "source": [
        "numbers = [0,1,2,3,4,5,6,7,8,9,10]\n",
        "for i in numbers:\n",
        "  print(i)\n",
        "print(\"Loop is completed\")"
      ],
      "metadata": {
        "colab": {
          "base_uri": "https://localhost:8080/"
        },
        "id": "bSPZqpNMDoOK",
        "outputId": "9e6b0433-43ca-482f-9d77-d1d8c8ac00c4"
      },
      "execution_count": 17,
      "outputs": [
        {
          "output_type": "stream",
          "name": "stdout",
          "text": [
            "0\n",
            "1\n",
            "2\n",
            "3\n",
            "4\n",
            "5\n",
            "6\n",
            "7\n",
            "8\n",
            "9\n",
            "10\n",
            "Loop is completed\n"
          ]
        }
      ]
    },
    {
      "cell_type": "markdown",
      "source": [
        "Range function"
      ],
      "metadata": {
        "id": "fXbWNkWPFlim"
      }
    },
    {
      "cell_type": "code",
      "source": [
        "for i in range(5,21):\n",
        "  print(i)\n",
        "print(\"Loop is completed\")"
      ],
      "metadata": {
        "colab": {
          "base_uri": "https://localhost:8080/"
        },
        "id": "_boO0tmPFRj9",
        "outputId": "7366dfa2-a99c-4642-a719-974b75904fb3"
      },
      "execution_count": 18,
      "outputs": [
        {
          "output_type": "stream",
          "name": "stdout",
          "text": [
            "5\n",
            "6\n",
            "7\n",
            "8\n",
            "9\n",
            "10\n",
            "11\n",
            "12\n",
            "13\n",
            "14\n",
            "15\n",
            "16\n",
            "17\n",
            "18\n",
            "19\n",
            "20\n",
            "Loop is completed\n"
          ]
        }
      ]
    },
    {
      "cell_type": "code",
      "source": [
        "for i in range(1,101):\n",
        "  if i %5 == 0:\n",
        "    print(i)"
      ],
      "metadata": {
        "colab": {
          "base_uri": "https://localhost:8080/"
        },
        "id": "Ri5UiBJNF5bk",
        "outputId": "2b32463d-5e82-4835-dfef-3d8b389a4bcc"
      },
      "execution_count": 19,
      "outputs": [
        {
          "output_type": "stream",
          "name": "stdout",
          "text": [
            "5\n",
            "10\n",
            "15\n",
            "20\n",
            "25\n",
            "30\n",
            "35\n",
            "40\n",
            "45\n",
            "50\n",
            "55\n",
            "60\n",
            "65\n",
            "70\n",
            "75\n",
            "80\n",
            "85\n",
            "90\n",
            "95\n",
            "100\n"
          ]
        }
      ]
    },
    {
      "cell_type": "markdown",
      "source": [
        "While Loops "
      ],
      "metadata": {
        "id": "LP-iPFHaLQhm"
      }
    },
    {
      "cell_type": "code",
      "source": [
        "import time\n",
        "celsius = 10\n",
        "while celsius < 50:\n",
        "  if celsius > 30:\n",
        "    print(\"Hot\")\n",
        "  elif 30>= celsius >20:\n",
        "    print(\"good\")\n",
        "  elif -273 < celsius <= 20:\n",
        "    print(\"Cold\")\n",
        "  else:\n",
        "    print(\"Something went wrong\")\n",
        "  print(\"Current tempreture: \",celsius)\n",
        "  celsius +=5\n",
        "  time.sleep(1)\n"
      ],
      "metadata": {
        "colab": {
          "base_uri": "https://localhost:8080/"
        },
        "id": "faqpD_zdGSWK",
        "outputId": "a5245fb5-489e-4a4d-b73c-5dc6c4558186"
      },
      "execution_count": 20,
      "outputs": [
        {
          "output_type": "stream",
          "name": "stdout",
          "text": [
            "Cold\n",
            "Current tempreture:  10\n",
            "Cold\n",
            "Current tempreture:  15\n",
            "Cold\n",
            "Current tempreture:  20\n",
            "good\n",
            "Current tempreture:  25\n",
            "good\n",
            "Current tempreture:  30\n",
            "Hot\n",
            "Current tempreture:  35\n",
            "Hot\n",
            "Current tempreture:  40\n",
            "Hot\n",
            "Current tempreture:  45\n"
          ]
        }
      ]
    },
    {
      "cell_type": "markdown",
      "source": [
        "# Dont start the code block down below. It is infinite loop"
      ],
      "metadata": {
        "id": "OxlKNLxINOx7"
      }
    },
    {
      "cell_type": "code",
      "source": [
        "import time \n",
        "counter = 0\n",
        "while counter >=0:\n",
        "  counter +=1\n",
        "\n",
        "  print(counter)\n",
        "  time.sleep(1)\n"
      ],
      "metadata": {
        "id": "WsphV36VMgMG",
        "colab": {
          "base_uri": "https://localhost:8080/",
          "height": 623
        },
        "outputId": "34f8d304-95fc-4742-f506-8c9ca78f0d48"
      },
      "execution_count": 21,
      "outputs": [
        {
          "output_type": "stream",
          "name": "stdout",
          "text": [
            "1\n",
            "2\n",
            "3\n",
            "4\n",
            "5\n",
            "6\n",
            "7\n",
            "8\n",
            "9\n",
            "10\n",
            "11\n",
            "12\n",
            "13\n",
            "14\n",
            "15\n",
            "16\n",
            "17\n",
            "18\n",
            "19\n",
            "20\n",
            "21\n",
            "22\n",
            "23\n",
            "24\n",
            "25\n"
          ]
        },
        {
          "output_type": "error",
          "ename": "KeyboardInterrupt",
          "evalue": "ignored",
          "traceback": [
            "\u001b[0;31m---------------------------------------------------------------------------\u001b[0m",
            "\u001b[0;31mKeyboardInterrupt\u001b[0m                         Traceback (most recent call last)",
            "\u001b[0;32m<ipython-input-21-2e2ddf557ee8>\u001b[0m in \u001b[0;36m<module>\u001b[0;34m()\u001b[0m\n\u001b[1;32m      5\u001b[0m \u001b[0;34m\u001b[0m\u001b[0m\n\u001b[1;32m      6\u001b[0m   \u001b[0mprint\u001b[0m\u001b[0;34m(\u001b[0m\u001b[0mcounter\u001b[0m\u001b[0;34m)\u001b[0m\u001b[0;34m\u001b[0m\u001b[0;34m\u001b[0m\u001b[0m\n\u001b[0;32m----> 7\u001b[0;31m   \u001b[0mtime\u001b[0m\u001b[0;34m.\u001b[0m\u001b[0msleep\u001b[0m\u001b[0;34m(\u001b[0m\u001b[0;36m1\u001b[0m\u001b[0;34m)\u001b[0m\u001b[0;34m\u001b[0m\u001b[0;34m\u001b[0m\u001b[0m\n\u001b[0m",
            "\u001b[0;31mKeyboardInterrupt\u001b[0m: "
          ]
        }
      ]
    },
    {
      "cell_type": "markdown",
      "source": [
        "## Breaking the infinite loop"
      ],
      "metadata": {
        "id": "JDO6fmlYO-Wg"
      }
    },
    {
      "cell_type": "code",
      "source": [
        "import random\n",
        "while True:\n",
        "  random_number = random.randrange(1000)\n",
        "  print(random_number)\n",
        "  if random_number == 777:\n",
        "    print(\"Jackpot!! Gouch ya!!\",random_number)\n",
        "    break"
      ],
      "metadata": {
        "id": "9aUd2jWeNrbB"
      },
      "execution_count": null,
      "outputs": []
    },
    {
      "cell_type": "markdown",
      "source": [
        "You can use break on for loops"
      ],
      "metadata": {
        "id": "LxbEeL3dPnK5"
      }
    },
    {
      "cell_type": "code",
      "source": [
        "names = [\"Max\",\"Felix\",\"Deniz\",\"Selin\",\"Lucas\",26,\"Sarah\"]\n",
        "\n",
        "for name in names:\n",
        "  if type(name) != str:\n",
        "    print(\"Found a nonstring in\",name)\n",
        "    continue\n",
        "  else:\n",
        "    print(name,\"is a string\")"
      ],
      "metadata": {
        "id": "br70_3GvPVpb"
      },
      "execution_count": null,
      "outputs": []
    },
    {
      "cell_type": "markdown",
      "source": [
        "# Functions"
      ],
      "metadata": {
        "id": "ZxfjRZhAIjNy"
      }
    },
    {
      "cell_type": "code",
      "source": [
        "def hello(name):\n",
        "  print(\"Hello\",name)"
      ],
      "metadata": {
        "id": "hQBCp4IDIsmA"
      },
      "execution_count": null,
      "outputs": []
    },
    {
      "cell_type": "code",
      "source": [
        "hello(\"Berk\")"
      ],
      "metadata": {
        "id": "czZMikKTIzJc"
      },
      "execution_count": null,
      "outputs": []
    },
    {
      "cell_type": "code",
      "source": [
        "def sum(number1,number2):\n",
        "  answer = number1 + number2\n",
        "  return answer\n"
      ],
      "metadata": {
        "id": "2ktTbn5YI1FU"
      },
      "execution_count": null,
      "outputs": []
    },
    {
      "cell_type": "code",
      "source": [
        "result = sum(3,5)\n",
        "print(result)"
      ],
      "metadata": {
        "id": "DsSa_6OzJGdL"
      },
      "execution_count": null,
      "outputs": []
    },
    {
      "cell_type": "markdown",
      "source": [
        "# Arguments"
      ],
      "metadata": {
        "id": "klrXJtrf9wnE"
      }
    },
    {
      "cell_type": "code",
      "source": [
        "def argument_printer (arg_position1,arg_position2):\n",
        "  print(\"Argument at position 1:\",arg_position1)\n",
        "  print(\"Argument at position 2:\",arg_position2)\n"
      ],
      "metadata": {
        "id": "02G-PR6TNEB8"
      },
      "execution_count": null,
      "outputs": []
    },
    {
      "cell_type": "code",
      "source": [
        "argument_printer(\"value 1\",\"value 2\")"
      ],
      "metadata": {
        "id": "wEZj-Gt-NX2T"
      },
      "execution_count": null,
      "outputs": []
    },
    {
      "cell_type": "code",
      "source": [
        "argument_printer()"
      ],
      "metadata": {
        "id": "0kr9NBqENe2h"
      },
      "execution_count": null,
      "outputs": []
    },
    {
      "cell_type": "markdown",
      "source": [
        "#Argument Scope"
      ],
      "metadata": {
        "id": "Wk0kjB1fOQI5"
      }
    },
    {
      "cell_type": "code",
      "source": [
        "def greeting1(First_name,Last_name,Auto_correction):\n",
        "  if Auto_correction == True:\n",
        "    capitalized_firs_name = First_name.capitalize()\n",
        "    capitalized_last_name = Last_name.capitalize()\n",
        "    print(\"Hello\",capitalized_firs_name,capitalized_last_name)\n",
        "  else:\n",
        "    print(\"Hello\",First_name,Last_name)"
      ],
      "metadata": {
        "id": "gMF6suubOHBb"
      },
      "execution_count": null,
      "outputs": []
    },
    {
      "cell_type": "code",
      "source": [
        "greeting1(\"DENİz\",\"kayA\",True)"
      ],
      "metadata": {
        "id": "PkbnM3nnPLcE"
      },
      "execution_count": null,
      "outputs": []
    },
    {
      "cell_type": "code",
      "source": [
        "greeting1(\"DENİz\",\"kayA\",False)"
      ],
      "metadata": {
        "id": "rorefSOaP-Qo"
      },
      "execution_count": null,
      "outputs": []
    },
    {
      "cell_type": "code",
      "source": [
        "def greeting(First_name,Last_name,Auto_correction = True):\n",
        "  if Auto_correction == True:\n",
        "    capitalized_firs_name = First_name.capitalize()\n",
        "    capitalized_last_name = Last_name.capitalize()\n",
        "    print(\"Hello\",capitalized_firs_name,capitalized_last_name)\n",
        "  else:\n",
        "    print(\"Hello\",First_name,Last_name)"
      ],
      "metadata": {
        "id": "yhgPQFcBPS2U"
      },
      "execution_count": null,
      "outputs": []
    },
    {
      "cell_type": "code",
      "source": [
        "greeting(\"deNiz\",\"kaYa\")"
      ],
      "metadata": {
        "id": "iyqeoIYtP0GG"
      },
      "execution_count": null,
      "outputs": []
    },
    {
      "cell_type": "markdown",
      "source": [
        "#Keyword Arguments"
      ],
      "metadata": {
        "id": "tPx8kReaQPps"
      }
    },
    {
      "cell_type": "code",
      "source": [
        "def car(brand,model,color):\n",
        "  print(\"My favourite car is the \",brand,model,\"in the colour\",color)\n"
      ],
      "metadata": {
        "id": "4XIxfS0-P4p-"
      },
      "execution_count": null,
      "outputs": []
    },
    {
      "cell_type": "code",
      "source": [
        "car(\"Volvo\",\"v40\",\"Ocean Blue\")"
      ],
      "metadata": {
        "id": "J7URx1w9Ql-m"
      },
      "execution_count": null,
      "outputs": []
    },
    {
      "cell_type": "code",
      "source": [
        "car (color = \"black\",brand = \"Volvo\",model = \"V40\")"
      ],
      "metadata": {
        "id": "maMBiC7uQt6k"
      },
      "execution_count": null,
      "outputs": []
    },
    {
      "cell_type": "code",
      "source": [
        "car (color = \"black\",brand = \"Volvo\",\"V40\")\n"
      ],
      "metadata": {
        "id": "vyYKiFb6Q9G9"
      },
      "execution_count": null,
      "outputs": []
    },
    {
      "cell_type": "markdown",
      "source": [
        "#Scope\n",
        "Local scope and global scope"
      ],
      "metadata": {
        "id": "OwLTMUF4Rq73"
      }
    },
    {
      "cell_type": "code",
      "source": [
        "number0 = 13\n",
        "def change_number():\n",
        "  number0 = 4\n",
        "\n",
        "change_number()\n",
        "print(number0)"
      ],
      "metadata": {
        "colab": {
          "base_uri": "https://localhost:8080/"
        },
        "id": "o6kB8GTCSBcQ",
        "outputId": "6e304bc9-e1f8-4bb1-a2f9-a22442a2c026"
      },
      "execution_count": 37,
      "outputs": [
        {
          "output_type": "stream",
          "name": "stdout",
          "text": [
            "13\n"
          ]
        }
      ]
    },
    {
      "cell_type": "code",
      "source": [
        "number01 =13\n",
        "def change_number():\n",
        "  global number01\n",
        "  number01 = 4\n",
        "\n",
        "change_number()\n",
        "print(number01)"
      ],
      "metadata": {
        "colab": {
          "base_uri": "https://localhost:8080/"
        },
        "id": "x4NEEDpfS-Cr",
        "outputId": "7de429e8-56c7-4b50-f7e5-ba1aa0c174ba"
      },
      "execution_count": 39,
      "outputs": [
        {
          "output_type": "stream",
          "name": "stdout",
          "text": [
            "4\n"
          ]
        }
      ]
    },
    {
      "cell_type": "markdown",
      "source": [
        "#Modules"
      ],
      "metadata": {
        "id": "daO4lFUEUWZH"
      }
    },
    {
      "cell_type": "code",
      "source": [
        "import test"
      ],
      "metadata": {
        "id": "bmZj4bgGTEaD"
      },
      "execution_count": 45,
      "outputs": []
    },
    {
      "cell_type": "code",
      "source": [
        "test.greeting(\"Berk\")"
      ],
      "metadata": {
        "colab": {
          "base_uri": "https://localhost:8080/"
        },
        "id": "h02st0wuVkoG",
        "outputId": "aa52ca94-6255-4320-8f86-789d6e1f545a"
      },
      "execution_count": 47,
      "outputs": [
        {
          "output_type": "stream",
          "name": "stdout",
          "text": [
            "Hello Berk\n"
          ]
        }
      ]
    },
    {
      "cell_type": "code",
      "source": [
        ""
      ],
      "metadata": {
        "id": "dTqxlu75VmxZ"
      },
      "execution_count": null,
      "outputs": []
    }
  ]
}