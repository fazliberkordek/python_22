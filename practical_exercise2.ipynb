{
  "nbformat": 4,
  "nbformat_minor": 0,
  "metadata": {
    "colab": {
      "name": "practical_exercise2.ipynb",
      "provenance": [],
      "collapsed_sections": [],
      "include_colab_link": true
    },
    "kernelspec": {
      "name": "python3",
      "display_name": "Python 3"
    },
    "language_info": {
      "name": "python"
    }
  },
  "cells": [
    {
      "cell_type": "markdown",
      "metadata": {
        "id": "view-in-github",
        "colab_type": "text"
      },
      "source": [
        "<a href=\"https://colab.research.google.com/github/fazliberkordek/python_22/blob/main/practical_exercise2.ipynb\" target=\"_parent\"><img src=\"https://colab.research.google.com/assets/colab-badge.svg\" alt=\"Open In Colab\"/></a>"
      ]
    },
    {
      "cell_type": "markdown",
      "source": [
        "# Practical exercise 2:  You are a game developer :)\n",
        "\n",
        "In this practical exercise you are a game developer. You will program your first game – Rock, Paper, Scissors.\n",
        "\n",
        "If you are not familiar with the game, you can read about it here: https://en.wikipedia.org/wiki/Rock_paper_scissors.\n",
        "\n",
        "You will program the game step by step. Please read the instructions carefully. There are hints and important explanations that will help you with this exercise."
      ],
      "metadata": {
        "id": "tBDsFMQwBs6Z"
      }
    },
    {
      "cell_type": "markdown",
      "source": [
        "##Warm up\n",
        "\n",
        "Each player can choose between the three actions \"rock\", \"paper\" and \"scissors\". First, you need to create a list that contains all possible actions. "
      ],
      "metadata": {
        "id": "ymULFKyosM3d"
      }
    },
    {
      "cell_type": "code",
      "source": [
        "#Please create a list containing the three actions of the game.\n",
        "actions_list = [\"rock\",\"scissors\",\"paper\"]\n",
        "print(actions_list)\n"
      ],
      "metadata": {
        "id": "0w6HGZBvsvru",
        "colab": {
          "base_uri": "https://localhost:8080/"
        },
        "outputId": "5b8ee581-583c-4cfd-b158-807fcae47d6b"
      },
      "execution_count": 2,
      "outputs": [
        {
          "output_type": "stream",
          "name": "stdout",
          "text": [
            "['rock', 'scissors', 'paper']\n"
          ]
        }
      ]
    },
    {
      "cell_type": "markdown",
      "source": [
        ""
      ],
      "metadata": {
        "id": "6cxtXFB9vGZ6"
      }
    },
    {
      "cell_type": "markdown",
      "source": [
        "# Choose an action\n",
        "\n",
        "Now you have the list with the actions ready. The next step is to let Python randomly choose an action from this list. Each player has to make a choice, so Python has to make a choice for player 1 and another one for player 2.\n",
        "\n",
        "📌The built-in module \"random\" can help you with this. As you might remember from previous lessons you can use the .randint() method to generate random numbers.\n",
        "\n",
        "📌📌There is another method in the random module called .choice(). It takes a list as input and selects an item randomly from that list.\n",
        "\n"
      ],
      "metadata": {
        "id": "cnWVzlo1vBy8"
      }
    },
    {
      "cell_type": "code",
      "source": [
        "#Import the random library\n",
        "import random\n",
        "a = random.randrange(3)\n",
        "b= random.randrange(3)\n",
        "\n",
        "\n",
        "#Select a random action for each player\n",
        "player_one = actions_list[a]\n",
        "player_two = actions_list[b]\n",
        "\n",
        "#Use the print function to print the players choices\n",
        "print(player_one)\n",
        "print(player_two)\n"
      ],
      "metadata": {
        "id": "bdlEyJC2xPOw",
        "colab": {
          "base_uri": "https://localhost:8080/"
        },
        "outputId": "7fb63f7c-9519-4068-b2fa-83a57b405194"
      },
      "execution_count": 14,
      "outputs": [
        {
          "output_type": "stream",
          "name": "stdout",
          "text": [
            "rock\n",
            "paper\n"
          ]
        }
      ]
    },
    {
      "cell_type": "markdown",
      "source": [
        "# Determine the winner\n",
        "\n",
        "So, who won? To determine the winner, you first have to specify all possible outcomes of the game. Then you can use conditional statements to specify which outcome will lead to a win for player 1 or player 2, or a tie.\n",
        "\n",
        "First, let's start with the outcome that both users chose the same action: a tie!\n",
        "In case of a tie, the game should print the message \"Tie! Both players chose the same action.\" to the screen.\n",
        "\n",
        "📌Use conditional statements to check whether the players actions are equal to each other and *if* this condition is true the message should be printed."
      ],
      "metadata": {
        "id": "Yr7uQq1J2k6p"
      }
    },
    {
      "cell_type": "code",
      "source": [
        "#1 - Tie Condition\n",
        "#Please write an if statement to check if the players chose the same action\n",
        "if(player_one == player_two):\n",
        "  print(\"Player one:\", player_one,\"==\",\"player two:\",player_two,\"Its tie. Players chosed the same action\")\n",
        "else:\n",
        "  print(\"Player one:\", player_one,\"!=\",\"player two:\",player_two,\"Its not tie. Players chosed the diferent action\")\n",
        "\n",
        "\n"
      ],
      "metadata": {
        "id": "8S1F2r8NtEoN",
        "colab": {
          "base_uri": "https://localhost:8080/"
        },
        "outputId": "987b0bda-25f5-45cf-9b2e-82b732e2594b"
      },
      "execution_count": 17,
      "outputs": [
        {
          "output_type": "stream",
          "name": "stdout",
          "text": [
            "Player one: rock != player two: paper Its not tie. Players chosed the diferent action\n"
          ]
        }
      ]
    },
    {
      "cell_type": "markdown",
      "source": [
        "Now, let's focus on the remaining outcomes. We have three different actions: rock, paper and scissors.\n",
        "\n",
        "This is a list of all the possible combinations (without those that result in a tie):\n",
        "\n",
        "1.   (paper, rock)\n",
        "2.   (paper, scissors)\n",
        "3.   (scissors, rock)\n",
        "4.   (scissors, paper)\n",
        "5.   (rock, paper)\n",
        "6.   (rock, scissors)\n",
        "\n",
        "You need to check all these conditions in order to determine the winner.\n",
        "\n",
        "📌You can use the \"and\" operator to combine two actions in one conditional statement.\n",
        "\n",
        "📌📌Another approach is using nested if statements to check whether the action of player 2 beats the action of player 1.\n",
        "\n",
        "🧨💣In the cell, first copy the code you wrote for \"Tie\" conditions. Then continue to add the other outcomes using \"elif\".\n",
        "\n",
        "\n"
      ],
      "metadata": {
        "id": "6aKSif7rItma"
      }
    },
    {
      "cell_type": "code",
      "source": [
        "#Copy your code of the tie-conditions here\n",
        "#1 - Tie Condition\n",
        "if(player_one == player_two):\n",
        "  print(\"Player one:\", player_one,\"==\",\"player two:\",player_two,\"Its tie. Players chosed the same action\")\n",
        "elif player_one == \"paper\" and player_two ==\"rock\":\n",
        "  print(\"Player One has won\")\n",
        "elif player_one == \"paper\" and player_two ==\"scissors\":\n",
        "  print(\"Player Two has won\")\n",
        "elif player_one == \"scissors\" and player_two ==\"rock\":\n",
        "  print(\"Player Two has won\")\n",
        "elif player_one == \"scissors\" and player_two ==\"paper\":\n",
        "  print(\"Player One has won\")\n",
        "elif player_one == \"rock\" and player_two ==\"paper\":\n",
        "  print(\"Player Two has won\")\n",
        "elif player_one == \"rock\" and player_two ==\"scissors\":\n",
        "  print(\"Player Two has won\")\n",
        "else:\n",
        "  print(\"Error!\")\n",
        "\n",
        "\n",
        "\n",
        "\n",
        "\n",
        "\n",
        "\n",
        "#2-Winning Conditions\n",
        "#Please add the conditional statements for the remaining combinations \n"
      ],
      "metadata": {
        "id": "Ix9sskr5z6Td",
        "colab": {
          "base_uri": "https://localhost:8080/"
        },
        "outputId": "865bdf2d-a4a4-4937-e8ba-322f801a8ace"
      },
      "execution_count": 24,
      "outputs": [
        {
          "output_type": "stream",
          "name": "stdout",
          "text": [
            "Player Two has won\n"
          ]
        }
      ]
    },
    {
      "cell_type": "markdown",
      "source": [
        "# Best of 3 or 5 or single round ? :)\n",
        "\n",
        "Now that you have your game set, let's also ask the users how many rounds they want to play.\n",
        "\n",
        "📌 You can use the input function for this.\n",
        "\n",
        "And because there are multiple rounds, you need to keep track of the score. For this, you need to create a variable for each player that is 0 in the beginning.\n"
      ],
      "metadata": {
        "id": "7Ixf-AHqIhcV"
      }
    },
    {
      "cell_type": "code",
      "source": [
        "#Please ask the user how many rounds they want to play\n",
        "rounds = int(input(\"How many rounds you want to play\"))\n",
        "\n",
        "#Scores of players\n",
        "\n"
      ],
      "metadata": {
        "id": "_kbrpXXkBU_d",
        "colab": {
          "base_uri": "https://localhost:8080/"
        },
        "outputId": "f5b714e8-59f1-4668-d59b-48092bf434cd"
      },
      "execution_count": 25,
      "outputs": [
        {
          "name": "stdout",
          "output_type": "stream",
          "text": [
            "How many rounds you want to play5\n"
          ]
        }
      ]
    },
    {
      "cell_type": "markdown",
      "source": [
        "# Use a for loop to specify the number of rounds \n",
        "The user specified how many rounds he or she wants to play. \n",
        "\n",
        "One way to use this information is to put the game inside of a for loop.\n",
        "\n",
        "📌 You can use a for loop and the range() function to repeat the loop for a specified number of times.\n",
        "\n",
        "📌📌 Don't forget to convert the user input to the data type integer. You can use the int() function for this.\n",
        "\n",
        "📌📌📌 Don't forget to increment or add 1 to the score of the players that win, and print the current score after each round. You can use the assignment operator +=1 for this. "
      ],
      "metadata": {
        "id": "nzIGT6s_CWvP"
      }
    },
    {
      "cell_type": "code",
      "source": [
        "#Collect all the components of your program to run it in a for loop\n",
        "#Import the random library\n",
        "import random\n",
        "\n",
        "\n",
        "#Add the code to create a list containing the three actions of the game.\n",
        "actions_list = [\"rock\",\"scissors\",\"paper\"]\n",
        "\n",
        "#Add the code to set the scores of players to 0\n",
        "Player_one_score = Player_two_score= 0\n",
        "\n",
        "\n",
        "#Add the code to ask the user how many rounds they want to play\n",
        "rounds = int(input(\"How many rounds you want to play\"))\n",
        "\n",
        "#Write a for loop and put the game inside\n",
        "for i in range(rounds):\n",
        "  \n",
        "  a = random.randrange(3)\n",
        "  b = random.randrange(3)\n",
        "\n",
        "\n",
        "  #Add the code to select a random action for each player\n",
        "  player_one = actions_list[a]\n",
        "  player_two = actions_list[b]\n",
        "\n",
        "  #Add the code to print the players choices\n",
        "  print(\"Player ones choose:\",player_one)\n",
        "  print(\"Player two choose:\",player_two)\n",
        "\n",
        "\n",
        "  #Add the tie condition\n",
        "  if(player_one == player_two):\n",
        "    print(\"Player one:\", player_one,\"==\",\"player two:\",player_two,\"Its tie. Players chosed the same action\")\n",
        "  elif player_one == \"paper\" and player_two ==\"rock\":\n",
        "    print(\"Player One has won\")\n",
        "    Player_one_score+=1\n",
        "  elif player_one == \"paper\" and player_two ==\"scissors\":\n",
        "    print(\"Player Two has won\")\n",
        "    Player_two_score+=1\n",
        "  elif player_one == \"scissors\" and player_two ==\"rock\":\n",
        "    print(\"Player Two has won\")\n",
        "    Player_two_score+=1\n",
        "  elif player_one == \"scissors\" and player_two ==\"paper\":\n",
        "    print(\"Player One has won\")\n",
        "    Player_one_score+=1\n",
        "  elif player_one == \"rock\" and player_two ==\"paper\":\n",
        "    print(\"Player Two has won\")\n",
        "    Player_two_score+=1\n",
        "  elif player_one == \"rock\" and player_two ==\"scissors\":\n",
        "    print(\"Player Two has won\")\n",
        "    Player_two_score+=1\n",
        " \n",
        "\n",
        "\n",
        "  #Add the remaining condition\n",
        "\n",
        "\n",
        "  #print the score\n",
        "  print(\"Rounds played:{}\".format(round))\n",
        "  print(\"Player Ones score : {}\".format(Player_one_score))\n",
        "  print(\"Player Two's score : {}\".format(Player_two_score))\n",
        "\n",
        "\n"
      ],
      "metadata": {
        "id": "Wy7CLLRNCV3X",
        "colab": {
          "base_uri": "https://localhost:8080/"
        },
        "outputId": "3b9d3ce8-645e-4bfe-9c7b-fb4021258cf8"
      },
      "execution_count": 28,
      "outputs": [
        {
          "output_type": "stream",
          "name": "stdout",
          "text": [
            "How many rounds you want to play5\n",
            "Player ones choose: rock\n",
            "Player two choose: paper\n",
            "Player Two has won\n",
            "Rounds played:<built-in function round>\n",
            "Player Ones score : 0\n",
            "Player Two's score : 1\n",
            "Player ones choose: scissors\n",
            "Player two choose: rock\n",
            "Player Two has won\n",
            "Rounds played:<built-in function round>\n",
            "Player Ones score : 0\n",
            "Player Two's score : 2\n",
            "Player ones choose: scissors\n",
            "Player two choose: paper\n",
            "Player One has won\n",
            "Rounds played:<built-in function round>\n",
            "Player Ones score : 1\n",
            "Player Two's score : 2\n",
            "Player ones choose: paper\n",
            "Player two choose: scissors\n",
            "Player Two has won\n",
            "Rounds played:<built-in function round>\n",
            "Player Ones score : 1\n",
            "Player Two's score : 3\n",
            "Player ones choose: rock\n",
            "Player two choose: rock\n",
            "Player one: rock == player two: rock Its tie. Players chosed the same action\n",
            "Rounds played:<built-in function round>\n",
            "Player Ones score : 1\n",
            "Player Two's score : 3\n"
          ]
        }
      ]
    },
    {
      "cell_type": "markdown",
      "source": [
        "# Use a while loop to specify the number of rounds - Part 1\n",
        "\n",
        "In this module we also learned about while loops. Another way to play the game over and over again is using a while loop. \n",
        "\n",
        "This time, let's put the game inside a while loop.\n",
        "\n",
        "📌 You can directly use the value *True* to specify that the while loop should be executed. \n",
        "\n",
        "💣 By the way: Another very common name for True/False values is \"**Boolean values**\" or \"**Bools**\" in short.\n",
        "\n",
        "🧨🧨 Caution! Since we run the game in an while loop, you have to stop the game manually. Otherwise it will run infinitely.\n"
      ],
      "metadata": {
        "id": "QQIXQsmRwGqB"
      }
    },
    {
      "cell_type": "code",
      "source": [
        "import random\n",
        "actions_list = [\"rock\",\"scissors\",\"paper\"]\n",
        "\n",
        "#Add the code to set the scores of players to 0\n",
        "Player_one_score = Player_two_score= 0\n",
        "\n",
        "\n",
        "#Add the code to ask the user how many rounds they want to play\n",
        "rounds = int(input(\"How many rounds you want to play\"))\n",
        "\n",
        "\n",
        "#Write a while loop and put the game inside\n",
        "while True:\n",
        "  a = random.randrange(3)\n",
        "  \n",
        "  b = random.randrange(3)\n",
        "\n",
        "\n",
        "  #Add the code to select a random action for each player\n",
        "  player_one = actions_list[a]\n",
        "  player_two = actions_list[b]\n",
        "\n",
        "  #Add the code to print the players choices\n",
        "  print(\"Player ones choose:\",player_one)\n",
        "  print(\"Player two choose:\",player_two)\n",
        "\n",
        "\n",
        "  #Add the tie condition\n",
        "  if(player_one == player_two):\n",
        "    print(\"Player one:\", player_one,\"==\",\"player two:\",player_two,\"Its tie. Players chosed the same action\")\n",
        "  elif player_one == \"paper\" and player_two ==\"rock\":\n",
        "    print(\"Player One has won\")\n",
        "    Player_one_score+=1\n",
        "  elif player_one == \"paper\" and player_two ==\"scissors\":\n",
        "    print(\"Player Two has won\")\n",
        "    Player_two_score+=1\n",
        "  elif player_one == \"scissors\" and player_two ==\"rock\":\n",
        "    print(\"Player Two has won\")\n",
        "    Player_two_score+=1\n",
        "  elif player_one == \"scissors\" and player_two ==\"paper\":\n",
        "    print(\"Player One has won\")\n",
        "    Player_one_score+=1\n",
        "  elif player_one == \"rock\" and player_two ==\"paper\":\n",
        "    print(\"Player Two has won\")\n",
        "    Player_two_score+=1\n",
        "  elif player_one == \"rock\" and player_two ==\"scissors\":\n",
        "    print(\"Player Two has won\")\n",
        "    Player_two_score+=1\n",
        "  \n",
        "  print(\"Rounds played:{}\".format(round))\n",
        "  print(\"Player Ones score : {}\".format(Player_one_score))\n",
        "  print(\"Player Two's score : {}\".format(Player_two_score))\n",
        "\n",
        " \n",
        "\n",
        "\n",
        "\n",
        "  \n",
        "\n",
        "\n",
        "  #print the score\n",
        "\n"
      ],
      "metadata": {
        "id": "dvTr4HR4wF4n"
      },
      "execution_count": null,
      "outputs": []
    },
    {
      "cell_type": "markdown",
      "source": [
        "# Use a while loop to specify the number of rounds - Part 2\n",
        "\n",
        "Now the game runs infinitely and the user can end it manually. But there is a more efficient way to do this: Let's ask the user again how many rounds they want to play, just as you did for the game inside the for loop.\n",
        "\n",
        "To prevent an infinite loop, you need to add a round_counter that is 0 at the beginning. In each round, this counter needs to increase by 1. \n",
        "\n",
        "At the end of your while loop, you need to add an \"if\" condition to check whether the round_counter is equal to the number of rounds that we got from user as an input. If this is the case, we need to use \"**break**\" to end the game.\n",
        "\n",
        "Once we end the game, it would be nice to see a message that prints the winner to the screen. In case of a tie, it should print a message that the game ended in a tie.\n",
        "\n",
        "📌 You can use \"if\" and \"elif\" statements to determine the winner at the end."
      ],
      "metadata": {
        "id": "YKVAuxIsjaE6"
      }
    },
    {
      "cell_type": "code",
      "source": [
        "#Collect all the components of your program to run it in a while loop\n",
        "#Import the random library\n",
        "\n",
        "\n",
        "#Add the code to create a list containing the three actions of the game.\n",
        "\n",
        "\n",
        "#Add the code to set the scores of players to 0\n",
        "\n",
        "#Add a round_counter that is 0 at the beginning\n",
        "\n",
        "\n",
        "#Add the code to ask the user how many rounds they want to play\n",
        "\n",
        "\n",
        "#Write a while loop and put the game inside\n",
        "\n",
        "\n",
        "  #increase round_counter by 1 and print it\n",
        "\n",
        "\n",
        "  #Add the code to select a random action for each player\n",
        "\n",
        "\n",
        "  #Add the code to print the players choices\n",
        "\n",
        "\n",
        "  #Add the tie condition\n",
        "\n",
        "\n",
        "  #Add the remaining condition\n",
        "\n",
        "\n",
        "  #print the score\n",
        "\n",
        "\n",
        "  #stop the while loop if the round_counter equals the number of total rounds\n",
        "\n",
        "#Print the outcome of the game by using conditional statements\n",
        "import random\n",
        "actions_list = [\"rock\",\"scissors\",\"paper\"]\n",
        "\n",
        "#Add the code to set the scores of players to 0\n",
        "Player_one_score = Player_two_score= 0\n",
        "round_counter = 0\n",
        "\n",
        "\n",
        "#Add the code to ask the user how many rounds they want to play\n",
        "rounds = int(input(\"How many rounds you want to play\"))\n",
        "\n",
        "\n",
        "#Write a while loop and put the game inside\n",
        "while True:\n",
        "  round_counter +=1\n",
        "  a = random.randrange(3)\n",
        "  \n",
        "  b = random.randrange(3)\n",
        "\n",
        "\n",
        "  #Add the code to select a random action for each player\n",
        "  player_one = actions_list[a]\n",
        "  player_two = actions_list[b]\n",
        "\n",
        "  #Add the code to print the players choices\n",
        "  print(\"Player ones choose:\",player_one)\n",
        "  print(\"Player two choose:\",player_two)\n",
        "\n",
        "\n",
        "  #Add the tie condition\n",
        "  if(player_one == player_two):\n",
        "    print(\"Player one:\", player_one,\"==\",\"player two:\",player_two,\"Its tie. Players chosed the same action\")\n",
        "  elif player_one == \"paper\" and player_two ==\"rock\":\n",
        "    print(\"Player One has won\")\n",
        "    Player_one_score+=1\n",
        "  elif player_one == \"paper\" and player_two ==\"scissors\":\n",
        "    print(\"Player Two has won\")\n",
        "    Player_two_score+=1\n",
        "  elif player_one == \"scissors\" and player_two ==\"rock\":\n",
        "    print(\"Player Two has won\")\n",
        "    Player_two_score+=1\n",
        "  elif player_one == \"scissors\" and player_two ==\"paper\":\n",
        "    print(\"Player One has won\")\n",
        "    Player_one_score+=1\n",
        "  elif player_one == \"rock\" and player_two ==\"paper\":\n",
        "    print(\"Player Two has won\")\n",
        "    Player_two_score+=1\n",
        "  elif player_one == \"rock\" and player_two ==\"scissors\":\n",
        "    print(\"Player Two has won\")\n",
        "    Player_two_score+=1\n",
        "\n",
        "\n",
        "\n",
        "  if round_counter == rounds:\n",
        "    break;\n",
        "  else:\n",
        "    continue\n",
        "  \n",
        "print(\"Rounds played:{}\".format(rounds))\n",
        "print(\"Player Ones score : {}\".format(Player_one_score))\n",
        "print(\"Player Two's score : {}\".format(Player_two_score))\n",
        "\n",
        "\n",
        "\n",
        " \n",
        "\n",
        "\n",
        "\n",
        "  \n",
        "\n",
        "\n",
        "  #print the score\n",
        "\n",
        "\n",
        "  "
      ],
      "metadata": {
        "id": "emrjgYoXjYCR",
        "colab": {
          "base_uri": "https://localhost:8080/"
        },
        "outputId": "711aac94-3d9c-4000-937f-3f1e64b08b21"
      },
      "execution_count": 14,
      "outputs": [
        {
          "output_type": "stream",
          "name": "stdout",
          "text": [
            "How many rounds you want to play1\n",
            "Player ones choose: scissors\n",
            "Player two choose: scissors\n",
            "Player one: scissors == player two: scissors Its tie. Players chosed the same action\n",
            "Rounds played:1\n",
            "Player Ones score : 0\n",
            "Player Two's score : 0\n"
          ]
        }
      ]
    },
    {
      "cell_type": "code",
      "source": [
        "1"
      ],
      "metadata": {
        "id": "6nai5XBWXpNR"
      },
      "execution_count": null,
      "outputs": []
    }
  ]
}