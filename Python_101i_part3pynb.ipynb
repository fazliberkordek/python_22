{
  "nbformat": 4,
  "nbformat_minor": 0,
  "metadata": {
    "colab": {
      "name": "Python_101i_part3pynb",
      "provenance": [],
      "collapsed_sections": [],
      "authorship_tag": "ABX9TyOy+hsfgdEJN+egHtCWh6M5",
      "include_colab_link": true
    },
    "kernelspec": {
      "name": "python3",
      "display_name": "Python 3"
    },
    "language_info": {
      "name": "python"
    }
  },
  "cells": [
    {
      "cell_type": "markdown",
      "metadata": {
        "id": "view-in-github",
        "colab_type": "text"
      },
      "source": [
        "<a href=\"https://colab.research.google.com/github/fazliberkordek/python_22/blob/main/Python_101i_part3pynb.ipynb\" target=\"_parent\"><img src=\"https://colab.research.google.com/assets/colab-badge.svg\" alt=\"Open In Colab\"/></a>"
      ]
    },
    {
      "cell_type": "code",
      "execution_count": 1,
      "metadata": {
        "id": "ygg50jwlH2FF",
        "colab": {
          "base_uri": "https://localhost:8080/"
        },
        "outputId": "032b1847-f3f3-480a-b410-f8d61c26959a"
      },
      "outputs": [
        {
          "output_type": "stream",
          "name": "stdout",
          "text": [
            "Number:1\n",
            "11\n"
          ]
        }
      ],
      "source": [
        "number = int(input(\"Number:\"))\n",
        "print(number + 10)"
      ]
    },
    {
      "cell_type": "code",
      "source": [
        "#importing modules\n",
        "import math"
      ],
      "metadata": {
        "id": "CJMwAtqCstM-"
      },
      "execution_count": 2,
      "outputs": []
    },
    {
      "cell_type": "code",
      "source": [
        "floor_number = (math.floor(3.45))\n",
        "print(floor_number,type(floor_number))"
      ],
      "metadata": {
        "colab": {
          "base_uri": "https://localhost:8080/"
        },
        "id": "ZZRA6XqH13i5",
        "outputId": "e8b87124-629a-44fd-c58c-645ce93375c3"
      },
      "execution_count": 3,
      "outputs": [
        {
          "output_type": "stream",
          "name": "stdout",
          "text": [
            "3 <class 'int'>\n"
          ]
        }
      ]
    },
    {
      "cell_type": "code",
      "source": [
        "import datetime\n",
        "print(datetime.datetime.now())"
      ],
      "metadata": {
        "id": "vilVjBTN2MhJ",
        "colab": {
          "base_uri": "https://localhost:8080/"
        },
        "outputId": "577b3dee-c76f-4dc2-9d9e-f13aff254fe5"
      },
      "execution_count": 4,
      "outputs": [
        {
          "output_type": "stream",
          "name": "stdout",
          "text": [
            "2022-07-02 14:25:08.232139\n"
          ]
        }
      ]
    },
    {
      "cell_type": "code",
      "source": [
        "#random module\n",
        "import random\n",
        "print(random.randint(1,6)) # For example we are  playing with dice"
      ],
      "metadata": {
        "id": "3rwwln9Z366V",
        "colab": {
          "base_uri": "https://localhost:8080/"
        },
        "outputId": "11821ac9-f5ce-4760-e837-5aa5aaf45b1f"
      },
      "execution_count": 5,
      "outputs": [
        {
          "output_type": "stream",
          "name": "stdout",
          "text": [
            "6\n"
          ]
        }
      ]
    },
    {
      "cell_type": "code",
      "source": [
        "#Operators:\n",
        "#Arithmetic operator:\n",
        "\n",
        "print(\"2+5 = \",2+5)\n",
        "print(\"5-2 = \",5-2)\n",
        "print(\"5*2 = \",5*2)\n",
        "print(\"5/2 = \",5/2)\n",
        "print(\"5**2 = \",5**2)\n",
        "print(\"5//2 =\",5//2)\n",
        "print(\"5%2 = \",5%2)"
      ],
      "metadata": {
        "colab": {
          "base_uri": "https://localhost:8080/"
        },
        "id": "xDPTmlXjunYe",
        "outputId": "8eaede13-e3be-4e6c-9ad5-aaaeda765742"
      },
      "execution_count": 6,
      "outputs": [
        {
          "output_type": "stream",
          "name": "stdout",
          "text": [
            "2+5 =  7\n",
            "5-2 =  3\n",
            "5*2 =  10\n",
            "5/2 =  2.5\n",
            "5**2 =  25\n",
            "5//2 = 2\n",
            "5%2 =  1\n"
          ]
        }
      ]
    },
    {
      "cell_type": "code",
      "source": [
        "x = 5 # equivalent to x = 5\n",
        "x+=5 # x = x+5  \n",
        "x-=5\n",
        "x*=5\n",
        "x/=5\n"
      ],
      "metadata": {
        "id": "JFdhEPAFvIBf"
      },
      "execution_count": 7,
      "outputs": []
    },
    {
      "cell_type": "code",
      "source": [
        "#Comparison operitors:\n",
        "num1 = 10\n",
        "num2 = 5\n",
        "\n",
        "print(num1, \">\",  num2, \"=\", num1>num2)\n",
        "print(num1,\">=\", num2, \"=\", num1>=num2)\n",
        "print(num1,\"<\",num2, \"=\", num1<num2)\n",
        "print(num1,\"<=\",num2,\"=\", num1<=num2)\n",
        "print(num1,\"==\",num2,\"=\",num1==num2)\n",
        "print(num1,\"!=\",num2,\"=\",num1!=num2)\n",
        "\n"
      ],
      "metadata": {
        "colab": {
          "base_uri": "https://localhost:8080/"
        },
        "id": "9Cz_ZDuUxVBf",
        "outputId": "37ec1c40-04dc-4473-a1c1-6af25cd3a7e3"
      },
      "execution_count": 8,
      "outputs": [
        {
          "output_type": "stream",
          "name": "stdout",
          "text": [
            "10 > 5 = True\n",
            "10 >= 5 = True\n",
            "10 < 5 = False\n",
            "10 <= 5 = False\n",
            "10 == 5 = False\n",
            "10 != 5 = True\n"
          ]
        }
      ]
    },
    {
      "cell_type": "markdown",
      "source": [
        "## Logic Operators AND"
      ],
      "metadata": {
        "id": "1f6rbAlY0qRA"
      }
    },
    {
      "cell_type": "code",
      "source": [
        "print(\"True and True = \", True and True)\n",
        "print(\"True and False =\",True and False)\n",
        "print(\"False and True = \", False and True)\n",
        "print(\"False and Fakse =\",False and False)\n",
        "print(\"True and False and True = \", True and False and True)\n"
      ],
      "metadata": {
        "colab": {
          "base_uri": "https://localhost:8080/"
        },
        "id": "UCRO8cDsyPXM",
        "outputId": "2c71085f-796b-491a-9562-90709b40458c"
      },
      "execution_count": 9,
      "outputs": [
        {
          "output_type": "stream",
          "name": "stdout",
          "text": [
            "True and True =  True\n",
            "True and False = False\n",
            "False and True =  False\n",
            "False and Fakse = False\n",
            "True and False and True =  False\n"
          ]
        }
      ]
    },
    {
      "cell_type": "markdown",
      "source": [
        "# Logic operators: OR"
      ],
      "metadata": {
        "id": "dTy4oWji00gC"
      }
    },
    {
      "cell_type": "code",
      "source": [
        "print(\"True or True = \",True or True)\n",
        "print(\"True or False = \",True or False)\n",
        "print(\"False or True = \",False or True)\n",
        "print(\"False or False =\",False or False)\n",
        "print(\"False or True or False = \",False or True or False)"
      ],
      "metadata": {
        "colab": {
          "base_uri": "https://localhost:8080/"
        },
        "id": "p4ywwGxSzyMQ",
        "outputId": "04fe4227-7d08-4332-884d-fb47feca7ef1"
      },
      "execution_count": 10,
      "outputs": [
        {
          "output_type": "stream",
          "name": "stdout",
          "text": [
            "True or True =  True\n",
            "True or False =  True\n",
            "False or True =  True\n",
            "False or False = False\n",
            "False or True or False =  True\n"
          ]
        }
      ]
    },
    {
      "cell_type": "markdown",
      "source": [
        "# Logic Operator : NOT"
      ],
      "metadata": {
        "id": "KtJtFYhi1589"
      }
    },
    {
      "cell_type": "code",
      "source": [
        "print(\"Not True = \",not True)\n",
        "print(\"Not False =\", not False)"
      ],
      "metadata": {
        "colab": {
          "base_uri": "https://localhost:8080/"
        },
        "id": "aDaVMcgx1Wxc",
        "outputId": "34a10c9a-4ba8-45a0-d3b0-3a0d46c2bb4c"
      },
      "execution_count": 11,
      "outputs": [
        {
          "output_type": "stream",
          "name": "stdout",
          "text": [
            "Not True =  False\n",
            "Not False = True\n"
          ]
        }
      ]
    },
    {
      "cell_type": "markdown",
      "source": [
        "# If-Else Statement"
      ],
      "metadata": {
        "id": "rLLhN3FUrXDz"
      }
    },
    {
      "cell_type": "code",
      "source": [
        "celsius = 25\n",
        "if celsius >20:\n",
        "  print(\"The tempreture is\", celsius,\" which is above 20 Celsius\")"
      ],
      "metadata": {
        "colab": {
          "base_uri": "https://localhost:8080/"
        },
        "id": "76ebQqN5rdS8",
        "outputId": "a204551c-4930-4ab8-d0cc-662e99ee444a"
      },
      "execution_count": 12,
      "outputs": [
        {
          "output_type": "stream",
          "name": "stdout",
          "text": [
            "The tempreture is 25  which is above 20 Celsius\n"
          ]
        }
      ]
    },
    {
      "cell_type": "code",
      "source": [
        "celsius = 18\n",
        "if celsius >20:\n",
        "  print(\"good\")\n",
        "else:\n",
        "  print(\"cold\")"
      ],
      "metadata": {
        "colab": {
          "base_uri": "https://localhost:8080/"
        },
        "id": "viYq1Vo6XnLM",
        "outputId": "550ca1de-34b5-4497-a494-bb77c1da1976"
      },
      "execution_count": 13,
      "outputs": [
        {
          "output_type": "stream",
          "name": "stdout",
          "text": [
            "cold\n"
          ]
        }
      ]
    },
    {
      "cell_type": "code",
      "source": [
        "celsius = 32\n",
        "if celsius >30:\n",
        "  print(\"Hot \")\n",
        "elif 30>= celsius >20:\n",
        "  print(\"Good\")\n",
        "elif -273 < celsius <=20:\n",
        "  print(\"Cold\")\n",
        "else:\n",
        "  print(\"Something went wrong\")"
      ],
      "metadata": {
        "colab": {
          "base_uri": "https://localhost:8080/"
        },
        "id": "Uh3rzvwKYBOX",
        "outputId": "17d05a05-9b53-4f7e-a022-f8547f5e34d1"
      },
      "execution_count": 14,
      "outputs": [
        {
          "output_type": "stream",
          "name": "stdout",
          "text": [
            "Hot \n"
          ]
        }
      ]
    },
    {
      "cell_type": "code",
      "source": [
        "drivers_license = True\n",
        "age = 17\n",
        "if age >17:\n",
        "  if drivers_license:\n",
        "    print(\"You can drive car\")\n",
        "  else:\n",
        "    print(\"You need to go to a drivers licence course and get it \")\n",
        "else:\n",
        "  print(\"You need to get older\")\n"
      ],
      "metadata": {
        "colab": {
          "base_uri": "https://localhost:8080/"
        },
        "id": "D1bKpa2ZYr-W",
        "outputId": "ba525430-d736-4df4-c004-851a7073476b"
      },
      "execution_count": 15,
      "outputs": [
        {
          "output_type": "stream",
          "name": "stdout",
          "text": [
            "You need to get older\n"
          ]
        }
      ]
    },
    {
      "cell_type": "markdown",
      "source": [
        "## For Loops"
      ],
      "metadata": {
        "id": "OHNkaJ3ka1i9"
      }
    },
    {
      "cell_type": "code",
      "source": [
        "volcano_name = \"Eyjafjallajökull\"\n",
        "for i in volcano_name:\n",
        "  print(\"i: {}\\n\".format(i))\n",
        "print(\"Loop is completed\")"
      ],
      "metadata": {
        "colab": {
          "base_uri": "https://localhost:8080/"
        },
        "id": "yFSwhBpgaTJp",
        "outputId": "149ff5f2-3af5-4fec-eae5-60f6a78eff0f"
      },
      "execution_count": 16,
      "outputs": [
        {
          "output_type": "stream",
          "name": "stdout",
          "text": [
            "i: E\n",
            "\n",
            "i: y\n",
            "\n",
            "i: j\n",
            "\n",
            "i: a\n",
            "\n",
            "i: f\n",
            "\n",
            "i: j\n",
            "\n",
            "i: a\n",
            "\n",
            "i: l\n",
            "\n",
            "i: l\n",
            "\n",
            "i: a\n",
            "\n",
            "i: j\n",
            "\n",
            "i: ö\n",
            "\n",
            "i: k\n",
            "\n",
            "i: u\n",
            "\n",
            "i: l\n",
            "\n",
            "i: l\n",
            "\n",
            "Loop is completed\n"
          ]
        }
      ]
    },
    {
      "cell_type": "code",
      "source": [
        "numbers = [0,1,2,3,4,5,6,7,8,9,10]\n",
        "for i in numbers:\n",
        "  print(i)\n",
        "print(\"Loop is completed\")"
      ],
      "metadata": {
        "colab": {
          "base_uri": "https://localhost:8080/"
        },
        "id": "bSPZqpNMDoOK",
        "outputId": "9e6b0433-43ca-482f-9d77-d1d8c8ac00c4"
      },
      "execution_count": 17,
      "outputs": [
        {
          "output_type": "stream",
          "name": "stdout",
          "text": [
            "0\n",
            "1\n",
            "2\n",
            "3\n",
            "4\n",
            "5\n",
            "6\n",
            "7\n",
            "8\n",
            "9\n",
            "10\n",
            "Loop is completed\n"
          ]
        }
      ]
    },
    {
      "cell_type": "markdown",
      "source": [
        "Range function"
      ],
      "metadata": {
        "id": "fXbWNkWPFlim"
      }
    },
    {
      "cell_type": "code",
      "source": [
        "for i in range(5,21):\n",
        "  print(i)\n",
        "print(\"Loop is completed\")"
      ],
      "metadata": {
        "colab": {
          "base_uri": "https://localhost:8080/"
        },
        "id": "_boO0tmPFRj9",
        "outputId": "7366dfa2-a99c-4642-a719-974b75904fb3"
      },
      "execution_count": 18,
      "outputs": [
        {
          "output_type": "stream",
          "name": "stdout",
          "text": [
            "5\n",
            "6\n",
            "7\n",
            "8\n",
            "9\n",
            "10\n",
            "11\n",
            "12\n",
            "13\n",
            "14\n",
            "15\n",
            "16\n",
            "17\n",
            "18\n",
            "19\n",
            "20\n",
            "Loop is completed\n"
          ]
        }
      ]
    },
    {
      "cell_type": "code",
      "source": [
        "for i in range(1,101):\n",
        "  if i %5 == 0:\n",
        "    print(i)"
      ],
      "metadata": {
        "colab": {
          "base_uri": "https://localhost:8080/"
        },
        "id": "Ri5UiBJNF5bk",
        "outputId": "2b32463d-5e82-4835-dfef-3d8b389a4bcc"
      },
      "execution_count": 19,
      "outputs": [
        {
          "output_type": "stream",
          "name": "stdout",
          "text": [
            "5\n",
            "10\n",
            "15\n",
            "20\n",
            "25\n",
            "30\n",
            "35\n",
            "40\n",
            "45\n",
            "50\n",
            "55\n",
            "60\n",
            "65\n",
            "70\n",
            "75\n",
            "80\n",
            "85\n",
            "90\n",
            "95\n",
            "100\n"
          ]
        }
      ]
    },
    {
      "cell_type": "markdown",
      "source": [
        "While Loops "
      ],
      "metadata": {
        "id": "LP-iPFHaLQhm"
      }
    },
    {
      "cell_type": "code",
      "source": [
        "import time\n",
        "celsius = 10\n",
        "while celsius < 50:\n",
        "  if celsius > 30:\n",
        "    print(\"Hot\")\n",
        "  elif 30>= celsius >20:\n",
        "    print(\"good\")\n",
        "  elif -273 < celsius <= 20:\n",
        "    print(\"Cold\")\n",
        "  else:\n",
        "    print(\"Something went wrong\")\n",
        "  print(\"Current tempreture: \",celsius)\n",
        "  celsius +=5\n",
        "  time.sleep(1)\n"
      ],
      "metadata": {
        "colab": {
          "base_uri": "https://localhost:8080/"
        },
        "id": "faqpD_zdGSWK",
        "outputId": "a5245fb5-489e-4a4d-b73c-5dc6c4558186"
      },
      "execution_count": 20,
      "outputs": [
        {
          "output_type": "stream",
          "name": "stdout",
          "text": [
            "Cold\n",
            "Current tempreture:  10\n",
            "Cold\n",
            "Current tempreture:  15\n",
            "Cold\n",
            "Current tempreture:  20\n",
            "good\n",
            "Current tempreture:  25\n",
            "good\n",
            "Current tempreture:  30\n",
            "Hot\n",
            "Current tempreture:  35\n",
            "Hot\n",
            "Current tempreture:  40\n",
            "Hot\n",
            "Current tempreture:  45\n"
          ]
        }
      ]
    },
    {
      "cell_type": "markdown",
      "source": [
        "# Dont start the code block down below. It is infinite loop"
      ],
      "metadata": {
        "id": "OxlKNLxINOx7"
      }
    },
    {
      "cell_type": "code",
      "source": [
        "import time \n",
        "counter = 0\n",
        "while counter >=0:\n",
        "  counter +=1\n",
        "\n",
        "  print(counter)\n",
        "  time.sleep(1)\n"
      ],
      "metadata": {
        "id": "WsphV36VMgMG",
        "colab": {
          "base_uri": "https://localhost:8080/",
          "height": 623
        },
        "outputId": "34f8d304-95fc-4742-f506-8c9ca78f0d48"
      },
      "execution_count": 21,
      "outputs": [
        {
          "output_type": "stream",
          "name": "stdout",
          "text": [
            "1\n",
            "2\n",
            "3\n",
            "4\n",
            "5\n",
            "6\n",
            "7\n",
            "8\n",
            "9\n",
            "10\n",
            "11\n",
            "12\n",
            "13\n",
            "14\n",
            "15\n",
            "16\n",
            "17\n",
            "18\n",
            "19\n",
            "20\n",
            "21\n",
            "22\n",
            "23\n",
            "24\n",
            "25\n"
          ]
        },
        {
          "output_type": "error",
          "ename": "KeyboardInterrupt",
          "evalue": "ignored",
          "traceback": [
            "\u001b[0;31m---------------------------------------------------------------------------\u001b[0m",
            "\u001b[0;31mKeyboardInterrupt\u001b[0m                         Traceback (most recent call last)",
            "\u001b[0;32m<ipython-input-21-2e2ddf557ee8>\u001b[0m in \u001b[0;36m<module>\u001b[0;34m()\u001b[0m\n\u001b[1;32m      5\u001b[0m \u001b[0;34m\u001b[0m\u001b[0m\n\u001b[1;32m      6\u001b[0m   \u001b[0mprint\u001b[0m\u001b[0;34m(\u001b[0m\u001b[0mcounter\u001b[0m\u001b[0;34m)\u001b[0m\u001b[0;34m\u001b[0m\u001b[0;34m\u001b[0m\u001b[0m\n\u001b[0;32m----> 7\u001b[0;31m   \u001b[0mtime\u001b[0m\u001b[0;34m.\u001b[0m\u001b[0msleep\u001b[0m\u001b[0;34m(\u001b[0m\u001b[0;36m1\u001b[0m\u001b[0;34m)\u001b[0m\u001b[0;34m\u001b[0m\u001b[0;34m\u001b[0m\u001b[0m\n\u001b[0m",
            "\u001b[0;31mKeyboardInterrupt\u001b[0m: "
          ]
        }
      ]
    },
    {
      "cell_type": "markdown",
      "source": [
        "## Breaking the infinite loop"
      ],
      "metadata": {
        "id": "JDO6fmlYO-Wg"
      }
    },
    {
      "cell_type": "code",
      "source": [
        "import random\n",
        "while True:\n",
        "  random_number = random.randrange(1000)\n",
        "  print(random_number)\n",
        "  if random_number == 777:\n",
        "    print(\"Jackpot!! Gouch ya!!\",random_number)\n",
        "    break"
      ],
      "metadata": {
        "id": "9aUd2jWeNrbB"
      },
      "execution_count": null,
      "outputs": []
    },
    {
      "cell_type": "markdown",
      "source": [
        "You can use break on for loops"
      ],
      "metadata": {
        "id": "LxbEeL3dPnK5"
      }
    },
    {
      "cell_type": "code",
      "source": [
        "names = [\"Max\",\"Felix\",\"Deniz\",\"Selin\",\"Lucas\",26,\"Sarah\"]\n",
        "\n",
        "for name in names:\n",
        "  if type(name) != str:\n",
        "    print(\"Found a nonstring in\",name)\n",
        "    continue\n",
        "  else:\n",
        "    print(name,\"is a string\")"
      ],
      "metadata": {
        "id": "br70_3GvPVpb"
      },
      "execution_count": null,
      "outputs": []
    },
    {
      "cell_type": "markdown",
      "source": [
        "# Functions"
      ],
      "metadata": {
        "id": "ZxfjRZhAIjNy"
      }
    },
    {
      "cell_type": "code",
      "source": [
        "def hello(name):\n",
        "  print(\"Hello\",name)"
      ],
      "metadata": {
        "id": "hQBCp4IDIsmA"
      },
      "execution_count": null,
      "outputs": []
    },
    {
      "cell_type": "code",
      "source": [
        "hello(\"Berk\")"
      ],
      "metadata": {
        "id": "czZMikKTIzJc"
      },
      "execution_count": null,
      "outputs": []
    },
    {
      "cell_type": "code",
      "source": [
        "def sum(number1,number2):\n",
        "  answer = number1 + number2\n",
        "  return answer\n"
      ],
      "metadata": {
        "id": "2ktTbn5YI1FU"
      },
      "execution_count": null,
      "outputs": []
    },
    {
      "cell_type": "code",
      "source": [
        "result = sum(3,5)\n",
        "print(result)"
      ],
      "metadata": {
        "id": "DsSa_6OzJGdL"
      },
      "execution_count": null,
      "outputs": []
    },
    {
      "cell_type": "markdown",
      "source": [
        "# Arguments"
      ],
      "metadata": {
        "id": "klrXJtrf9wnE"
      }
    },
    {
      "cell_type": "code",
      "source": [
        "def argument_printer (arg_position1,arg_position2):\n",
        "  print(\"Argument at position 1:\",arg_position1)\n",
        "  print(\"Argument at position 2:\",arg_position2)\n"
      ],
      "metadata": {
        "id": "02G-PR6TNEB8"
      },
      "execution_count": null,
      "outputs": []
    },
    {
      "cell_type": "code",
      "source": [
        "argument_printer(\"value 1\",\"value 2\")"
      ],
      "metadata": {
        "id": "wEZj-Gt-NX2T"
      },
      "execution_count": null,
      "outputs": []
    },
    {
      "cell_type": "code",
      "source": [
        "argument_printer()"
      ],
      "metadata": {
        "id": "0kr9NBqENe2h"
      },
      "execution_count": null,
      "outputs": []
    },
    {
      "cell_type": "markdown",
      "source": [
        "#Argument Scope"
      ],
      "metadata": {
        "id": "Wk0kjB1fOQI5"
      }
    },
    {
      "cell_type": "code",
      "source": [
        "def greeting1(First_name,Last_name,Auto_correction):\n",
        "  if Auto_correction == True:\n",
        "    capitalized_firs_name = First_name.capitalize()\n",
        "    capitalized_last_name = Last_name.capitalize()\n",
        "    print(\"Hello\",capitalized_firs_name,capitalized_last_name)\n",
        "  else:\n",
        "    print(\"Hello\",First_name,Last_name)"
      ],
      "metadata": {
        "id": "gMF6suubOHBb"
      },
      "execution_count": null,
      "outputs": []
    },
    {
      "cell_type": "code",
      "source": [
        "greeting1(\"DENİz\",\"kayA\",True)"
      ],
      "metadata": {
        "id": "PkbnM3nnPLcE"
      },
      "execution_count": null,
      "outputs": []
    },
    {
      "cell_type": "code",
      "source": [
        "greeting1(\"DENİz\",\"kayA\",False)"
      ],
      "metadata": {
        "id": "rorefSOaP-Qo"
      },
      "execution_count": null,
      "outputs": []
    },
    {
      "cell_type": "code",
      "source": [
        "def greeting(First_name,Last_name,Auto_correction = True):\n",
        "  if Auto_correction == True:\n",
        "    capitalized_firs_name = First_name.capitalize()\n",
        "    capitalized_last_name = Last_name.capitalize()\n",
        "    print(\"Hello\",capitalized_firs_name,capitalized_last_name)\n",
        "  else:\n",
        "    print(\"Hello\",First_name,Last_name)"
      ],
      "metadata": {
        "id": "yhgPQFcBPS2U"
      },
      "execution_count": null,
      "outputs": []
    },
    {
      "cell_type": "code",
      "source": [
        "greeting(\"deNiz\",\"kaYa\")"
      ],
      "metadata": {
        "id": "iyqeoIYtP0GG"
      },
      "execution_count": null,
      "outputs": []
    },
    {
      "cell_type": "markdown",
      "source": [
        "#Keyword Arguments"
      ],
      "metadata": {
        "id": "tPx8kReaQPps"
      }
    },
    {
      "cell_type": "code",
      "source": [
        "def car(brand,model,color):\n",
        "  print(\"My favourite car is the \",brand,model,\"in the colour\",color)\n"
      ],
      "metadata": {
        "id": "4XIxfS0-P4p-"
      },
      "execution_count": null,
      "outputs": []
    },
    {
      "cell_type": "code",
      "source": [
        "car(\"Volvo\",\"v40\",\"Ocean Blue\")"
      ],
      "metadata": {
        "id": "J7URx1w9Ql-m"
      },
      "execution_count": null,
      "outputs": []
    },
    {
      "cell_type": "code",
      "source": [
        "car (color = \"black\",brand = \"Volvo\",model = \"V40\")"
      ],
      "metadata": {
        "id": "maMBiC7uQt6k"
      },
      "execution_count": null,
      "outputs": []
    },
    {
      "cell_type": "code",
      "source": [
        "car (color = \"black\",brand = \"Volvo\",\"V40\")\n"
      ],
      "metadata": {
        "id": "vyYKiFb6Q9G9"
      },
      "execution_count": null,
      "outputs": []
    },
    {
      "cell_type": "markdown",
      "source": [
        "#Scope\n",
        "Local scope and global scope"
      ],
      "metadata": {
        "id": "OwLTMUF4Rq73"
      }
    },
    {
      "cell_type": "code",
      "source": [
        "number0 = 13\n",
        "def change_number():\n",
        "  number0 = 4\n",
        "\n",
        "change_number()\n",
        "print(number0)"
      ],
      "metadata": {
        "colab": {
          "base_uri": "https://localhost:8080/"
        },
        "id": "o6kB8GTCSBcQ",
        "outputId": "6e304bc9-e1f8-4bb1-a2f9-a22442a2c026"
      },
      "execution_count": 37,
      "outputs": [
        {
          "output_type": "stream",
          "name": "stdout",
          "text": [
            "13\n"
          ]
        }
      ]
    },
    {
      "cell_type": "code",
      "source": [
        "number01 =13\n",
        "def change_number():\n",
        "  global number01\n",
        "  number01 = 4\n",
        "\n",
        "change_number()\n",
        "print(number01)"
      ],
      "metadata": {
        "colab": {
          "base_uri": "https://localhost:8080/"
        },
        "id": "x4NEEDpfS-Cr",
        "outputId": "7de429e8-56c7-4b50-f7e5-ba1aa0c174ba"
      },
      "execution_count": 39,
      "outputs": [
        {
          "output_type": "stream",
          "name": "stdout",
          "text": [
            "4\n"
          ]
        }
      ]
    },
    {
      "cell_type": "markdown",
      "source": [
        "#Modules"
      ],
      "metadata": {
        "id": "daO4lFUEUWZH"
      }
    },
    {
      "cell_type": "code",
      "source": [
        "import test"
      ],
      "metadata": {
        "id": "bmZj4bgGTEaD"
      },
      "execution_count": 45,
      "outputs": []
    },
    {
      "cell_type": "code",
      "source": [
        "test.greeting(\"Berk\")"
      ],
      "metadata": {
        "colab": {
          "base_uri": "https://localhost:8080/"
        },
        "id": "h02st0wuVkoG",
        "outputId": "aa52ca94-6255-4320-8f86-789d6e1f545a"
      },
      "execution_count": 47,
      "outputs": [
        {
          "output_type": "stream",
          "name": "stdout",
          "text": [
            "Hello Berk\n"
          ]
        }
      ]
    },
    {
      "cell_type": "code",
      "source": [
        "!pip install seaborn"
      ],
      "metadata": {
        "colab": {
          "base_uri": "https://localhost:8080/"
        },
        "id": "dTqxlu75VmxZ",
        "outputId": "2bcb1678-8f43-4a47-8e9d-0c2fad5e2e2d"
      },
      "execution_count": 48,
      "outputs": [
        {
          "output_type": "stream",
          "name": "stdout",
          "text": [
            "Looking in indexes: https://pypi.org/simple, https://us-python.pkg.dev/colab-wheels/public/simple/\n",
            "Requirement already satisfied: seaborn in /usr/local/lib/python3.7/dist-packages (0.11.2)\n",
            "Requirement already satisfied: matplotlib>=2.2 in /usr/local/lib/python3.7/dist-packages (from seaborn) (3.2.2)\n",
            "Requirement already satisfied: scipy>=1.0 in /usr/local/lib/python3.7/dist-packages (from seaborn) (1.4.1)\n",
            "Requirement already satisfied: numpy>=1.15 in /usr/local/lib/python3.7/dist-packages (from seaborn) (1.21.6)\n",
            "Requirement already satisfied: pandas>=0.23 in /usr/local/lib/python3.7/dist-packages (from seaborn) (1.3.5)\n",
            "Requirement already satisfied: kiwisolver>=1.0.1 in /usr/local/lib/python3.7/dist-packages (from matplotlib>=2.2->seaborn) (1.4.3)\n",
            "Requirement already satisfied: pyparsing!=2.0.4,!=2.1.2,!=2.1.6,>=2.0.1 in /usr/local/lib/python3.7/dist-packages (from matplotlib>=2.2->seaborn) (3.0.9)\n",
            "Requirement already satisfied: cycler>=0.10 in /usr/local/lib/python3.7/dist-packages (from matplotlib>=2.2->seaborn) (0.11.0)\n",
            "Requirement already satisfied: python-dateutil>=2.1 in /usr/local/lib/python3.7/dist-packages (from matplotlib>=2.2->seaborn) (2.8.2)\n",
            "Requirement already satisfied: typing-extensions in /usr/local/lib/python3.7/dist-packages (from kiwisolver>=1.0.1->matplotlib>=2.2->seaborn) (4.1.1)\n",
            "Requirement already satisfied: pytz>=2017.3 in /usr/local/lib/python3.7/dist-packages (from pandas>=0.23->seaborn) (2022.1)\n",
            "Requirement already satisfied: six>=1.5 in /usr/local/lib/python3.7/dist-packages (from python-dateutil>=2.1->matplotlib>=2.2->seaborn) (1.15.0)\n"
          ]
        }
      ]
    },
    {
      "cell_type": "code",
      "source": [
        "import seaborn as sns"
      ],
      "metadata": {
        "id": "l9nb_RVVXWhh"
      },
      "execution_count": 49,
      "outputs": []
    },
    {
      "cell_type": "code",
      "source": [
        "data = [1,2,10,3,5,6,13]"
      ],
      "metadata": {
        "id": "OpY7fhk-XfJa"
      },
      "execution_count": 52,
      "outputs": []
    },
    {
      "cell_type": "code",
      "source": [
        "sns.lineplot(range(7),data)"
      ],
      "metadata": {
        "colab": {
          "base_uri": "https://localhost:8080/",
          "height": 336
        },
        "id": "e-tI6dIWXrcd",
        "outputId": "10c1e5fd-bffd-45cc-ab95-c52551490d0f"
      },
      "execution_count": 55,
      "outputs": [
        {
          "output_type": "stream",
          "name": "stderr",
          "text": [
            "/usr/local/lib/python3.7/dist-packages/seaborn/_decorators.py:43: FutureWarning: Pass the following variables as keyword args: x, y. From version 0.12, the only valid positional argument will be `data`, and passing other arguments without an explicit keyword will result in an error or misinterpretation.\n",
            "  FutureWarning\n"
          ]
        },
        {
          "output_type": "execute_result",
          "data": {
            "text/plain": [
              "<matplotlib.axes._subplots.AxesSubplot at 0x7fd35ece05d0>"
            ]
          },
          "metadata": {},
          "execution_count": 55
        },
        {
          "output_type": "display_data",
          "data": {
            "text/plain": [
              "<Figure size 432x288 with 1 Axes>"
            ],
            "image/png": "[encoded data removed]"
          },
          "metadata": {
            "needs_background": "light"
          }
        }
      ]
    },
    {
      "cell_type": "markdown",
      "source": [
        "#List and Tuples"
      ],
      "metadata": {
        "id": "f8XBHT2KktOo"
      }
    },
    {
      "cell_type": "code",
      "source": [
        "shopping_list = [\"Apple\",\"Juice\",\"Ball\",\"Book\"]\n",
        "print(shopping_list)"
      ],
      "metadata": {
        "colab": {
          "base_uri": "https://localhost:8080/"
        },
        "id": "7w-bT0k0IYyH",
        "outputId": "04e95afd-5b5d-4132-c763-9b7430cd1851"
      },
      "execution_count": 38,
      "outputs": [
        {
          "output_type": "stream",
          "name": "stdout",
          "text": [
            "['Apple', 'Juice', 'Ball', 'Book']\n"
          ]
        }
      ]
    },
    {
      "cell_type": "code",
      "source": [
        "shopping_list .append(\"Beer\")\n",
        "print(shopping_list)"
      ],
      "metadata": {
        "colab": {
          "base_uri": "https://localhost:8080/"
        },
        "id": "Lx4oPzdPIkpQ",
        "outputId": "66b52483-56fb-43b9-e5b3-bb1940d1c2db"
      },
      "execution_count": 39,
      "outputs": [
        {
          "output_type": "stream",
          "name": "stdout",
          "text": [
            "['Apple', 'Juice', 'Ball', 'Book', 'Beer']\n"
          ]
        }
      ]
    },
    {
      "cell_type": "code",
      "source": [
        "shopping_list.insert(2,\"Banana\")\n",
        "print(shopping_list)"
      ],
      "metadata": {
        "colab": {
          "base_uri": "https://localhost:8080/"
        },
        "id": "dS0qfftgIseP",
        "outputId": "58073d12-cda1-4e78-d42d-a6a40e24a339"
      },
      "execution_count": 40,
      "outputs": [
        {
          "output_type": "stream",
          "name": "stdout",
          "text": [
            "['Apple', 'Juice', 'Banana', 'Ball', 'Book', 'Beer']\n"
          ]
        }
      ]
    },
    {
      "cell_type": "code",
      "source": [
        "shopping_list.remove(\"Apple\")\n",
        "print(shopping_list)"
      ],
      "metadata": {
        "id": "AT94Pd5qI7NX"
      },
      "execution_count": 35,
      "outputs": []
    },
    {
      "cell_type": "code",
      "source": [
        "print(shopping_list)"
      ],
      "metadata": {
        "colab": {
          "base_uri": "https://localhost:8080/"
        },
        "id": "cTkz9tOVJCfF",
        "outputId": "90f25cfa-22f3-4ab8-f7ed-fd4a24e1e63b"
      },
      "execution_count": 36,
      "outputs": [
        {
          "output_type": "stream",
          "name": "stdout",
          "text": [
            "['Juice', 'Banana', 'Ball', 'Book', 'Beer']\n"
          ]
        }
      ]
    },
    {
      "cell_type": "code",
      "source": [
        "shopping_list[3] = \"Strawberry\"\n",
        "print(shopping_list)"
      ],
      "metadata": {
        "colab": {
          "base_uri": "https://localhost:8080/"
        },
        "id": "lEqh_u1aJFax",
        "outputId": "1d1133a1-0b2a-450c-9ab1-50d2aedf8070"
      },
      "execution_count": 41,
      "outputs": [
        {
          "output_type": "stream",
          "name": "stdout",
          "text": [
            "['Apple', 'Juice', 'Banana', 'Strawberry', 'Book', 'Beer']\n"
          ]
        }
      ]
    },
    {
      "cell_type": "markdown",
      "source": [
        "#Iterable Objects"
      ],
      "metadata": {
        "id": "UNIQleenwHtV"
      }
    },
    {
      "cell_type": "code",
      "source": [
        "number_list = [1,2,3,4,5]\n"
      ],
      "metadata": {
        "id": "xIJR4t3uwLIc"
      },
      "execution_count": 42,
      "outputs": []
    },
    {
      "cell_type": "code",
      "source": [
        "square_list = []"
      ],
      "metadata": {
        "id": "-yFb6RZKwVbb"
      },
      "execution_count": 43,
      "outputs": []
    },
    {
      "cell_type": "code",
      "source": [
        "for i in number_list:\n",
        "  square_list.append(i**2)"
      ],
      "metadata": {
        "id": "Obrl8VRZwb36"
      },
      "execution_count": 46,
      "outputs": []
    },
    {
      "cell_type": "code",
      "source": [
        "print(square_list)"
      ],
      "metadata": {
        "colab": {
          "base_uri": "https://localhost:8080/"
        },
        "id": "LVUS6z7FwqIf",
        "outputId": "d6ebb508-fb1c-4a74-9aad-aea0759643a2"
      },
      "execution_count": 47,
      "outputs": [
        {
          "output_type": "stream",
          "name": "stdout",
          "text": [
            "[1, 4, 9, 16, 25]\n"
          ]
        }
      ]
    },
    {
      "cell_type": "markdown",
      "source": [
        "#list comprehension"
      ],
      "metadata": {
        "id": "jXAIfN75w5Ci"
      }
    },
    {
      "cell_type": "code",
      "source": [
        "number_list = [1,2,3,4,5]\n",
        "square_list = [num **2 for num in number_list]\n",
        "print(square_list)"
      ],
      "metadata": {
        "colab": {
          "base_uri": "https://localhost:8080/"
        },
        "id": "uBg_OLtNwxWh",
        "outputId": "9fc7921f-e2c5-4cf0-fa86-307b2741a5cc"
      },
      "execution_count": 48,
      "outputs": [
        {
          "output_type": "stream",
          "name": "stdout",
          "text": [
            "[1, 4, 9, 16, 25]\n"
          ]
        }
      ]
    },
    {
      "cell_type": "markdown",
      "source": [
        "##TUPLES\n",
        "Packing a tuple"
      ],
      "metadata": {
        "id": "DNAxYyv63VpD"
      }
    },
    {
      "cell_type": "code",
      "source": [
        "shopping_list = (\"Apple\",\"Juice\",\"Ball\",\"Book\")"
      ],
      "metadata": {
        "id": "b4mSeh9vy_av"
      },
      "execution_count": 49,
      "outputs": []
    },
    {
      "cell_type": "markdown",
      "source": [
        "Unpacking the tuples"
      ],
      "metadata": {
        "id": "bCXuIv1p4BN4"
      }
    },
    {
      "cell_type": "code",
      "source": [
        "item1,item2,item3,item4 = shopping_list\n",
        "print(item1)\n",
        "print(item2)\n",
        "print(item3)\n",
        "print(item4)"
      ],
      "metadata": {
        "colab": {
          "base_uri": "https://localhost:8080/"
        },
        "id": "A688QQKn3r7J",
        "outputId": "0eb0ba6a-e1d5-4a80-ccda-2f7df68c66cc"
      },
      "execution_count": 50,
      "outputs": [
        {
          "output_type": "stream",
          "name": "stdout",
          "text": [
            "Apple\n",
            "Juice\n",
            "Ball\n",
            "Book\n"
          ]
        }
      ]
    },
    {
      "cell_type": "code",
      "source": [
        "print(shopping_list[0])"
      ],
      "metadata": {
        "colab": {
          "base_uri": "https://localhost:8080/"
        },
        "id": "PzLUpbPm4cZP",
        "outputId": "577aafb3-bd12-4623-e823-013db7417518"
      },
      "execution_count": 51,
      "outputs": [
        {
          "output_type": "stream",
          "name": "stdout",
          "text": [
            "Apple\n"
          ]
        }
      ]
    },
    {
      "cell_type": "code",
      "source": [
        "print(shopping_list[1:3])"
      ],
      "metadata": {
        "colab": {
          "base_uri": "https://localhost:8080/"
        },
        "id": "tX-jUEi640Jm",
        "outputId": "a4fc654f-cdc4-488b-deb0-19d03ffd3980"
      },
      "execution_count": 52,
      "outputs": [
        {
          "output_type": "stream",
          "name": "stdout",
          "text": [
            "('Juice', 'Ball')\n"
          ]
        }
      ]
    },
    {
      "cell_type": "code",
      "source": [
        "shopping_list[1] = \"Water\""
      ],
      "metadata": {
        "colab": {
          "base_uri": "https://localhost:8080/",
          "height": 164
        },
        "id": "DLv4rsSH45g3",
        "outputId": "fe430ebc-5b63-4dcc-dc56-38843d2a497f"
      },
      "execution_count": 53,
      "outputs": [
        {
          "output_type": "error",
          "ename": "TypeError",
          "evalue": "ignored",
          "traceback": [
            "\u001b[0;31m---------------------------------------------------------------------------\u001b[0m",
            "\u001b[0;31mTypeError\u001b[0m                                 Traceback (most recent call last)",
            "\u001b[0;32m<ipython-input-53-5d3c93f17450>\u001b[0m in \u001b[0;36m<module>\u001b[0;34m()\u001b[0m\n\u001b[0;32m----> 1\u001b[0;31m \u001b[0mshopping_list\u001b[0m\u001b[0;34m[\u001b[0m\u001b[0;36m1\u001b[0m\u001b[0;34m]\u001b[0m \u001b[0;34m=\u001b[0m \u001b[0;34m\"Water\"\u001b[0m\u001b[0;34m\u001b[0m\u001b[0;34m\u001b[0m\u001b[0m\n\u001b[0m",
            "\u001b[0;31mTypeError\u001b[0m: 'tuple' object does not support item assignment"
          ]
        }
      ]
    },
    {
      "cell_type": "markdown",
      "source": [
        "# **Dictionaries**"
      ],
      "metadata": {
        "id": "nB_-Kg6l5x-0"
      }
    },
    {
      "cell_type": "code",
      "source": [
        "phone_book = {\"Deniz Kaya\":\"+90 555 32 32\",\"Selin Demir\":\"+49 1157 123 56 78\",\"Ali Can\":\"+1 123 45 67\"}\n",
        "print(phone_book,type(phone_book))"
      ],
      "metadata": {
        "colab": {
          "base_uri": "https://localhost:8080/"
        },
        "id": "6AvWIRu95BEx",
        "outputId": "1493477f-1ea6-435b-9ab8-a9090ea104c9"
      },
      "execution_count": 57,
      "outputs": [
        {
          "output_type": "stream",
          "name": "stdout",
          "text": [
            "{'Deniz Kaya': '+90 555 32 32', 'Selin Demir': '+49 1157 123 56 78', 'Ali Can': '+1 123 45 67'} <class 'dict'>\n"
          ]
        }
      ]
    },
    {
      "cell_type": "code",
      "source": [
        "print(\"the number of the Deniz Kaya:\"+ phone_book['Deniz Kaya'])"
      ],
      "metadata": {
        "colab": {
          "base_uri": "https://localhost:8080/"
        },
        "id": "fvt7iYXv6X2G",
        "outputId": "3381779f-7244-4c26-c39f-d304bba12fde"
      },
      "execution_count": 60,
      "outputs": [
        {
          "output_type": "stream",
          "name": "stdout",
          "text": [
            "the number of the Deniz Kaya:+90 555 32 32\n"
          ]
        }
      ]
    },
    {
      "cell_type": "code",
      "source": [
        "inventory = dict()\n",
        "inventory['Banana'] = 25\n",
        "inventory['Apples'] = 102\n",
        "inventory['Orange'] = 54\n",
        "inventory['Watermelons'] = 4\n",
        "\n",
        "\n",
        "\n"
      ],
      "metadata": {
        "id": "apciS4hC8DWO"
      },
      "execution_count": 63,
      "outputs": []
    },
    {
      "cell_type": "markdown",
      "source": [
        ""
      ],
      "metadata": {
        "id": "TBSmgrAZ_lh9"
      }
    },
    {
      "cell_type": "code",
      "source": [
        "print(inventory)"
      ],
      "metadata": {
        "colab": {
          "base_uri": "https://localhost:8080/"
        },
        "id": "OZp4mHBd9Br-",
        "outputId": "3cfd19f6-7222-4219-8aea-b0d0165ef5fd"
      },
      "execution_count": 64,
      "outputs": [
        {
          "output_type": "stream",
          "name": "stdout",
          "text": [
            "{'Banana': 25, 'Apples': 102, 'Orange': 54, 'Watermelons': 4}\n"
          ]
        }
      ]
    },
    {
      "cell_type": "code",
      "source": [
        "print(inventory['Apples'])"
      ],
      "metadata": {
        "colab": {
          "base_uri": "https://localhost:8080/"
        },
        "id": "-TRGedoc9EAq",
        "outputId": "8aa8c13a-3895-46cb-cd40-0a73bbbf658c"
      },
      "execution_count": 66,
      "outputs": [
        {
          "output_type": "stream",
          "name": "stdout",
          "text": [
            "102\n"
          ]
        }
      ]
    },
    {
      "cell_type": "code",
      "source": [
        "print(\"Print keys of the inventory: \", inventory.keys())\n",
        "print(\"Print the values of the inventory: \", inventory.values())"
      ],
      "metadata": {
        "colab": {
          "base_uri": "https://localhost:8080/"
        },
        "id": "ZEKzZkhY9ZPs",
        "outputId": "93b30b50-6681-4703-cff9-ff60d919a60c"
      },
      "execution_count": 71,
      "outputs": [
        {
          "output_type": "stream",
          "name": "stdout",
          "text": [
            "Print keys of the inventory:  dict_keys(['Banana', 'Apples', 'Orange', 'Watermelons'])\n",
            "Print the values of the inventory:  dict_values([25, 102, 54, 4])\n"
          ]
        }
      ]
    },
    {
      "cell_type": "code",
      "source": [
        "print(inventory.items())"
      ],
      "metadata": {
        "colab": {
          "base_uri": "https://localhost:8080/"
        },
        "id": "YrkFsM4d9s3N",
        "outputId": "791eda8b-4c98-4fc4-fc73-194fb151ea84"
      },
      "execution_count": 72,
      "outputs": [
        {
          "output_type": "stream",
          "name": "stdout",
          "text": [
            "dict_items([('Banana', 25), ('Apples', 102), ('Orange', 54), ('Watermelons', 4)])\n"
          ]
        }
      ]
    },
    {
      "cell_type": "code",
      "source": [
        "for element in inventory:\n",
        "  print(element)"
      ],
      "metadata": {
        "colab": {
          "base_uri": "https://localhost:8080/"
        },
        "id": "ulQM2vio-BAh",
        "outputId": "0312d011-6011-4278-e20a-edce8799775c"
      },
      "execution_count": 78,
      "outputs": [
        {
          "output_type": "stream",
          "name": "stdout",
          "text": [
            "Banana\n",
            "Apples\n",
            "Orange\n",
            "Watermelons\n"
          ]
        }
      ]
    },
    {
      "cell_type": "code",
      "source": [
        "for key in inventory:\n",
        "  inventory[key] +=100\n",
        "\n",
        "print(inventory)"
      ],
      "metadata": {
        "colab": {
          "base_uri": "https://localhost:8080/"
        },
        "id": "NEjE894U-JHS",
        "outputId": "ac2d1be2-69fc-465f-df5b-66a9d975fc40"
      },
      "execution_count": 76,
      "outputs": [
        {
          "output_type": "stream",
          "name": "stdout",
          "text": [
            "{'Banana': 125, 'Apples': 202, 'Orange': 154, 'Watermelons': 104}\n"
          ]
        }
      ]
    },
    {
      "cell_type": "code",
      "source": [
        "for key,value in inventory.items():\n",
        "  if value>200:\n",
        "    print(\"Too many\",key)\n",
        "  else:\n",
        "    print(\"Enough\",key)"
      ],
      "metadata": {
        "colab": {
          "base_uri": "https://localhost:8080/"
        },
        "id": "9sAlcK05__e3",
        "outputId": "13fb936d-f687-4735-a8d9-313cedc025db"
      },
      "execution_count": 82,
      "outputs": [
        {
          "output_type": "stream",
          "name": "stdout",
          "text": [
            "Enough Banana\n",
            "Too many Apples\n",
            "Enough Orange\n",
            "Enough Watermelons\n"
          ]
        }
      ]
    },
    {
      "cell_type": "code",
      "source": [
        ""
      ],
      "metadata": {
        "id": "HD0Kv6S3Ab5_"
      },
      "execution_count": null,
      "outputs": []
    }
  ]
}