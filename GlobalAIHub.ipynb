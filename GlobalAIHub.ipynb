{
  "nbformat": 4,
  "nbformat_minor": 0,
  "metadata": {
    "colab": {
      "name": "GlobalAIHub.ipynb",
      "provenance": [],
      "authorship_tag": "ABX9TyNo/wleubEX2i7c1+s0081q",
      "include_colab_link": true
    },
    "kernelspec": {
      "name": "python3",
      "display_name": "Python 3"
    },
    "language_info": {
      "name": "python"
    }
  },
  "cells": [
    {
      "cell_type": "markdown",
      "metadata": {
        "id": "view-in-github",
        "colab_type": "text"
      },
      "source": [
        "<a href=\"https://colab.research.google.com/github/fazliberkordek/python_22/blob/main/GlobalAIHub.ipynb\" target=\"_parent\"><img src=\"https://colab.research.google.com/assets/colab-badge.svg\" alt=\"Open In Colab\"/></a>"
      ]
    },
    {
      "cell_type": "code",
      "execution_count": null,
      "metadata": {
        "id": "ygg50jwlH2FF",
        "colab": {
          "base_uri": "https://localhost:8080/"
        },
        "outputId": "c20fb7bf-6905-4dad-ea2a-bb7c9a264c06"
      },
      "outputs": [
        {
          "output_type": "stream",
          "name": "stdout",
          "text": [
            "Number:1\n",
            "11\n"
          ]
        }
      ],
      "source": [
        "number = int(input(\"Number:\"))\n",
        "print(number + 10)"
      ]
    },
    {
      "cell_type": "code",
      "source": [
        "#importing modules\n",
        "import math"
      ],
      "metadata": {
        "id": "CJMwAtqCstM-"
      },
      "execution_count": null,
      "outputs": []
    },
    {
      "cell_type": "code",
      "source": [
        "floor_number = (math.floor(3.45))\n",
        "print(floor_number,type(floor_number))"
      ],
      "metadata": {
        "colab": {
          "base_uri": "https://localhost:8080/"
        },
        "id": "ZZRA6XqH13i5",
        "outputId": "b1186780-2567-4873-9c3e-2789ceaf51d9"
      },
      "execution_count": null,
      "outputs": [
        {
          "output_type": "stream",
          "name": "stdout",
          "text": [
            "3 <class 'int'>\n"
          ]
        }
      ]
    },
    {
      "cell_type": "code",
      "source": [
        "import datetime\n",
        "print(datetime.datetime.now())"
      ],
      "metadata": {
        "id": "vilVjBTN2MhJ",
        "colab": {
          "base_uri": "https://localhost:8080/"
        },
        "outputId": "64c40b35-3312-4428-83b7-75be73d36ae5"
      },
      "execution_count": null,
      "outputs": [
        {
          "output_type": "stream",
          "name": "stdout",
          "text": [
            "2022-06-28 19:53:11.806786\n"
          ]
        }
      ]
    },
    {
      "cell_type": "code",
      "source": [
        "#random module\n",
        "import random\n",
        "print(random.randint(1,6)) # For example we are  playing with dice"
      ],
      "metadata": {
        "id": "3rwwln9Z366V",
        "colab": {
          "base_uri": "https://localhost:8080/"
        },
        "outputId": "e541382d-3d5c-4308-f524-613b283ff767"
      },
      "execution_count": null,
      "outputs": [
        {
          "output_type": "stream",
          "name": "stdout",
          "text": [
            "1\n"
          ]
        }
      ]
    },
    {
      "cell_type": "code",
      "source": [
        "#Operators:\n",
        "#Arithmetic operator:\n",
        "\n",
        "print(\"2+5 = \",2+5)\n",
        "print(\"5-2 = \",5-2)\n",
        "print(\"5*2 = \",5*2)\n",
        "print(\"5/2 = \",5/2)\n",
        "print(\"5**2 = \",5**2)\n",
        "print(\"5//2 =\",5//2)\n",
        "print(\"5%2 = \",5%2)"
      ],
      "metadata": {
        "colab": {
          "base_uri": "https://localhost:8080/"
        },
        "id": "xDPTmlXjunYe",
        "outputId": "d0ce80a9-1d8a-4adc-918d-6bfca1995582"
      },
      "execution_count": null,
      "outputs": [
        {
          "output_type": "stream",
          "name": "stdout",
          "text": [
            "2+5 =  7\n",
            "5-2 =  3\n",
            "5*2 =  10\n",
            "5/2 =  2.5\n",
            "5**2 =  25\n",
            "5//2 = 2\n",
            "5%2 =  1\n"
          ]
        }
      ]
    },
    {
      "cell_type": "code",
      "source": [
        "x = 5 # equivalent to x = 5\n",
        "x+=5 # x = x+5  \n",
        "x-=5\n",
        "x*=5\n",
        "x/=5\n"
      ],
      "metadata": {
        "id": "JFdhEPAFvIBf"
      },
      "execution_count": null,
      "outputs": []
    },
    {
      "cell_type": "code",
      "source": [
        "#Comparison operitors:\n",
        "num1 = 10\n",
        "num2 = 5\n",
        "\n",
        "print(num1, \">\",  num2, \"=\", num1>num2)\n",
        "print(num1,\">=\", num2, \"=\", num1>=num2)\n",
        "print(num1,\"<\",num2, \"=\", num1<num2)\n",
        "print(num1,\"<=\",num2,\"=\", num1<=num2)\n",
        "print(num1,\"==\",num2,\"=\",num1==num2)\n",
        "print(num1,\"!=\",num2,\"=\",num1!=num2)\n",
        "\n"
      ],
      "metadata": {
        "colab": {
          "base_uri": "https://localhost:8080/"
        },
        "id": "9Cz_ZDuUxVBf",
        "outputId": "ebf637b4-adba-480c-cc30-328112adf40a"
      },
      "execution_count": null,
      "outputs": [
        {
          "output_type": "stream",
          "name": "stdout",
          "text": [
            "10 > 5 = True\n",
            "10 >= 5 = True\n",
            "10 < 5 = False\n",
            "10 <= 5 = False\n",
            "10 == 5 = False\n",
            "10 != 5 = True\n"
          ]
        }
      ]
    },
    {
      "cell_type": "markdown",
      "source": [
        "## Logic Operators AND"
      ],
      "metadata": {
        "id": "1f6rbAlY0qRA"
      }
    },
    {
      "cell_type": "code",
      "source": [
        "print(\"True and True = \", True and True)\n",
        "print(\"True and False =\",True and False)\n",
        "print(\"False and True = \", False and True)\n",
        "print(\"False and Fakse =\",False and False)\n",
        "print(\"True and False and True = \", True and False and True)\n"
      ],
      "metadata": {
        "colab": {
          "base_uri": "https://localhost:8080/"
        },
        "id": "UCRO8cDsyPXM",
        "outputId": "5aaf99ad-ae10-4821-e943-03cce4f3df43"
      },
      "execution_count": null,
      "outputs": [
        {
          "output_type": "stream",
          "name": "stdout",
          "text": [
            "True and True =  True\n",
            "True and False = False\n",
            "False and True =  False\n",
            "False and Fakse = False\n",
            "True and False and True =  False\n"
          ]
        }
      ]
    },
    {
      "cell_type": "markdown",
      "source": [
        "# Logic operators: OR"
      ],
      "metadata": {
        "id": "dTy4oWji00gC"
      }
    },
    {
      "cell_type": "code",
      "source": [
        "print(\"True or True = \",True or True)\n",
        "print(\"True or False = \",True or False)\n",
        "print(\"False or True = \",False or True)\n",
        "print(\"False or False =\",False or False)\n",
        "print(\"False or True or False = \",False or True or False)"
      ],
      "metadata": {
        "colab": {
          "base_uri": "https://localhost:8080/"
        },
        "id": "p4ywwGxSzyMQ",
        "outputId": "41efd044-3d3a-490e-f017-d170f622070f"
      },
      "execution_count": null,
      "outputs": [
        {
          "output_type": "stream",
          "name": "stdout",
          "text": [
            "True or True =  True\n",
            "True or False =  True\n",
            "False or True =  True\n",
            "False or False = False\n",
            "False or True or False =  True\n"
          ]
        }
      ]
    },
    {
      "cell_type": "markdown",
      "source": [
        "# Logic Operator : NOT"
      ],
      "metadata": {
        "id": "KtJtFYhi1589"
      }
    },
    {
      "cell_type": "code",
      "source": [
        "print(\"Not True = \",not True)\n",
        "print(\"Not False =\", not False)"
      ],
      "metadata": {
        "colab": {
          "base_uri": "https://localhost:8080/"
        },
        "id": "aDaVMcgx1Wxc",
        "outputId": "341eb4e3-1aae-4944-abe7-7b28a7047d20"
      },
      "execution_count": null,
      "outputs": [
        {
          "output_type": "stream",
          "name": "stdout",
          "text": [
            "Not True =  False\n",
            "Not False = True\n"
          ]
        }
      ]
    },
    {
      "cell_type": "markdown",
      "source": [
        "# If-Else Statement"
      ],
      "metadata": {
        "id": "rLLhN3FUrXDz"
      }
    },
    {
      "cell_type": "code",
      "source": [
        "celsius = 25\n",
        "if celsius >20:\n",
        "  print(\"The tempreture is\", celsius,\" which is above 20 Celsius\")"
      ],
      "metadata": {
        "colab": {
          "base_uri": "https://localhost:8080/"
        },
        "id": "76ebQqN5rdS8",
        "outputId": "e942caed-17ea-4819-81ef-260d5f959c00"
      },
      "execution_count": 9,
      "outputs": [
        {
          "output_type": "stream",
          "name": "stdout",
          "text": [
            "The tempreture is 25  which is above 20 Celsius\n"
          ]
        }
      ]
    },
    {
      "cell_type": "code",
      "source": [
        "celsius = 18\n",
        "if celsius >20:\n",
        "  print(\"good\")\n",
        "else:\n",
        "  print(\"cold\")"
      ],
      "metadata": {
        "colab": {
          "base_uri": "https://localhost:8080/"
        },
        "id": "viYq1Vo6XnLM",
        "outputId": "965fd043-3f88-4208-8898-a3cc0368aaf3"
      },
      "execution_count": 10,
      "outputs": [
        {
          "output_type": "stream",
          "name": "stdout",
          "text": [
            "cold\n"
          ]
        }
      ]
    },
    {
      "cell_type": "code",
      "source": [
        "celsius = 32\n",
        "if celsius >30:\n",
        "  print(\"Hot \")\n",
        "elif 30>= celsius >20:\n",
        "  print(\"Good\")\n",
        "elif -273 < celsius <=20:\n",
        "  print(\"Cold\")\n",
        "else:\n",
        "  print(\"Something went wrong\")"
      ],
      "metadata": {
        "colab": {
          "base_uri": "https://localhost:8080/"
        },
        "id": "Uh3rzvwKYBOX",
        "outputId": "088d4835-bfda-41c5-dd28-cb0e2c2d46de"
      },
      "execution_count": 12,
      "outputs": [
        {
          "output_type": "stream",
          "name": "stdout",
          "text": [
            "Hot \n"
          ]
        }
      ]
    },
    {
      "cell_type": "code",
      "source": [
        "drivers_license = True\n",
        "age = 17\n",
        "if age >17:\n",
        "  if drivers_license:\n",
        "    print(\"You can drive car\")\n",
        "  else:\n",
        "    print(\"You need to go to a drivers licence course and get it \")\n",
        "else:\n",
        "  print(\"You need to get older\")\n"
      ],
      "metadata": {
        "colab": {
          "base_uri": "https://localhost:8080/"
        },
        "id": "D1bKpa2ZYr-W",
        "outputId": "c0875ac2-9d71-4f34-f019-9185abef1f45"
      },
      "execution_count": 1,
      "outputs": [
        {
          "output_type": "stream",
          "name": "stdout",
          "text": [
            "You need to get older\n"
          ]
        }
      ]
    },
    {
      "cell_type": "markdown",
      "source": [
        "## For Loops"
      ],
      "metadata": {
        "id": "OHNkaJ3ka1i9"
      }
    },
    {
      "cell_type": "code",
      "source": [
        "volcano_name = \"Eyjafjallajökull\"\n",
        "for i in volcano_name:\n",
        "  print(\"i: {}\\n\".format(i))\n",
        "print(\"Loop is completed\")"
      ],
      "metadata": {
        "colab": {
          "base_uri": "https://localhost:8080/"
        },
        "id": "yFSwhBpgaTJp",
        "outputId": "e1f05b88-1913-44d3-fb99-5cf056b46660"
      },
      "execution_count": 10,
      "outputs": [
        {
          "output_type": "stream",
          "name": "stdout",
          "text": [
            "i: E\n",
            "\n",
            "i: y\n",
            "\n",
            "i: j\n",
            "\n",
            "i: a\n",
            "\n",
            "i: f\n",
            "\n",
            "i: j\n",
            "\n",
            "i: a\n",
            "\n",
            "i: l\n",
            "\n",
            "i: l\n",
            "\n",
            "i: a\n",
            "\n",
            "i: j\n",
            "\n",
            "i: ö\n",
            "\n",
            "i: k\n",
            "\n",
            "i: u\n",
            "\n",
            "i: l\n",
            "\n",
            "i: l\n",
            "\n",
            "Loop is completed\n"
          ]
        }
      ]
    },
    {
      "cell_type": "code",
      "source": [
        "numbers = [0,1,2,3,4,5,6,7,8,9,10]\n",
        "for i in numbers:\n",
        "  print(i)\n",
        "print(\"Loop is completed\")"
      ],
      "metadata": {
        "colab": {
          "base_uri": "https://localhost:8080/"
        },
        "id": "bSPZqpNMDoOK",
        "outputId": "1538011b-919f-4aeb-cb96-e9c54efcab3f"
      },
      "execution_count": 12,
      "outputs": [
        {
          "output_type": "stream",
          "name": "stdout",
          "text": [
            "0\n",
            "1\n",
            "2\n",
            "3\n",
            "4\n",
            "5\n",
            "6\n",
            "7\n",
            "8\n",
            "9\n",
            "10\n",
            "Loop is completed\n"
          ]
        }
      ]
    },
    {
      "cell_type": "markdown",
      "source": [
        "Range function"
      ],
      "metadata": {
        "id": "fXbWNkWPFlim"
      }
    },
    {
      "cell_type": "code",
      "source": [
        "for i in range(5,21):\n",
        "  print(i)\n",
        "print(\"Loop is completed\")"
      ],
      "metadata": {
        "colab": {
          "base_uri": "https://localhost:8080/"
        },
        "id": "_boO0tmPFRj9",
        "outputId": "e435d129-ca46-4525-d014-6f09e6eba6b8"
      },
      "execution_count": 14,
      "outputs": [
        {
          "output_type": "stream",
          "name": "stdout",
          "text": [
            "5\n",
            "6\n",
            "7\n",
            "8\n",
            "9\n",
            "10\n",
            "11\n",
            "12\n",
            "13\n",
            "14\n",
            "15\n",
            "16\n",
            "17\n",
            "18\n",
            "19\n",
            "20\n",
            "Loop is completed\n"
          ]
        }
      ]
    },
    {
      "cell_type": "code",
      "source": [
        "for i in range(1,101):\n",
        "  if i %5 == 0:\n",
        "    print(i)"
      ],
      "metadata": {
        "colab": {
          "base_uri": "https://localhost:8080/"
        },
        "id": "Ri5UiBJNF5bk",
        "outputId": "307f613a-86d9-4370-8d25-25d5db7936b5"
      },
      "execution_count": 15,
      "outputs": [
        {
          "output_type": "stream",
          "name": "stdout",
          "text": [
            "5\n",
            "10\n",
            "15\n",
            "20\n",
            "25\n",
            "30\n",
            "35\n",
            "40\n",
            "45\n",
            "50\n",
            "55\n",
            "60\n",
            "65\n",
            "70\n",
            "75\n",
            "80\n",
            "85\n",
            "90\n",
            "95\n",
            "100\n"
          ]
        }
      ]
    },
    {
      "cell_type": "code",
      "source": [
        ""
      ],
      "metadata": {
        "id": "faqpD_zdGSWK"
      },
      "execution_count": null,
      "outputs": []
    }
  ]
}